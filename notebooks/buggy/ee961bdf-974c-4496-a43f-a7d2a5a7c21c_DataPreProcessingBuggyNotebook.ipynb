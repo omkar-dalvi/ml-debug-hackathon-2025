{
 "cells": [
  {
   "cell_type": "markdown",
   "metadata": {
    "application/vnd.databricks.v1+cell": {
     "cellMetadata": {},
     "inputWidgets": {},
     "nuid": "63069b9d-60d6-4426-a41d-7957ddf935a9",
     "showTitle": false,
     "tableResultSettingsMap": {},
     "title": ""
    }
   },
   "source": [
    "## Loading data"
   ]
  },
  {
   "cell_type": "code",
   "execution_count": 0,
   "metadata": {
    "application/vnd.databricks.v1+cell": {
     "cellMetadata": {
      "byteLimit": 2048000,
      "rowLimit": 10000
     },
     "inputWidgets": {},
     "nuid": "87b1e9c8-ba27-4a64-ae5a-941239a8e978",
     "showTitle": false,
     "tableResultSettingsMap": {},
     "title": ""
    }
   },
   "outputs": [
    {
     "output_type": "stream",
     "name": "stdout",
     "output_type": "stream",
     "text": [
      "amzecomdata\nglobalmartmarketingdata\ninventorydata\noptimalchannel\n"
     ]
    }
   ],
   "source": [
    "from azure.storage.filedatalake import DataLakeServiceClient\n",
    "\n",
    "# Replace with your details\n",
    "storage_account_name = \n",
    "storage_account_key = \n",
    "\n",
    "# Connect to ADLS\n",
    "service_client = DataLakeServiceClient(\n",
    "    account_url=f\"https://{storage_account_name}.dfs.core.windows.net\",\n",
    "    credential=storage_account_key,\n",
    "    api_version=\"2023-11-03\"  # Use the correct supported API version\n",
    ")\n",
    "\n",
    "# List Containers\n",
    "containers = service_client.list_file_systems()\n",
    "for container in containers:\n",
    "    print(container.name)\n"
   ]
  },
  {
   "cell_type": "code",
   "execution_count": 0,
   "metadata": {
    "application/vnd.databricks.v1+cell": {
     "cellMetadata": {},
     "inputWidgets": {},
     "nuid": "72544553-9717-4fb7-8167-8eb07f0c96db",
     "showTitle": false,
     "tableResultSettingsMap": {},
     "title": ""
    }
   },
   "outputs": [],
   "source": [
    "# Replace with your details\n",
    "container_name = "
   ]
  },
  {
   "cell_type": "code",
   "execution_count": 0,
   "metadata": {
    "application/vnd.databricks.v1+cell": {
     "cellMetadata": {
      "byteLimit": 2048000,
      "rowLimit": 10000
     },
     "inputWidgets": {},
     "nuid": "a5fc414f-e5d8-4bf7-8778-6fb0103f7bdb",
     "showTitle": false,
     "tableResultSettingsMap": {},
     "title": ""
    }
   },
   "outputs": [],
   "source": [
    "import os\n",
    "from azure.storage.blob import BlobServiceClient\n",
    "import pandas as pd\n",
    "import io\n",
    "\n",
    "def read_csv_from_blob(storage_account_name, container_name, file_name, storage_account_key=None):\n",
    "    \"\"\"\n",
    "    Read a CSV file from Azure Blob Storage using Python and return a Pandas DataFrame.\n",
    "\n",
    "    :param storage_account_name: Azure storage account name.\n",
    "    :param container_name: Blob container name.\n",
    "    :param file_name: Name of the file in the container.\n",
    "    :param storage_account_key: Storage account access key.\n",
    "    :return: Pandas DataFrame.\n",
    "    \"\"\"\n",
    "    \n",
    "    if not storage_account_key:\n",
    "        # Try to get the key from environment variables if not provided\n",
    "        storage_account_key = os.environ.get('AZURE_STORAGE_KEY')\n",
    "        \n",
    "    if not storage_account_key:\n",
    "        raise ValueError(\"Storage account key must be provided either as a parameter or as an environment variable 'AZURE_STORAGE_KEY'\")\n",
    "    \n",
    "    try:\n",
    "        # Create a connection string\n",
    "        connection_string = f\"DefaultEndpointsProtocol=https;AccountName={storage_account_name};AccountKey={storage_account_key};EndpointSuffix=core.windows.net\"\n",
    "        \n",
    "        # Create the BlobServiceClient\n",
    "        blob_service_client = BlobServiceClient.from_connection_string(connection_string)\n",
    "        \n",
    "        # Get the container client\n",
    "        container_client = blob_service_client.get_container_client(container_name)\n",
    "        \n",
    "        # Get the blob client\n",
    "        blob_client = container_client.get_blob_client(file_name)\n",
    "        \n",
    "        # Download the blob content\n",
    "        download_stream = blob_client.download_blob()\n",
    "        \n",
    "        # Convert the content to a DataFrame\n",
    "        content = download_stream.readall()\n",
    "        df = pd.read_csv(io.BytesIO(content))\n",
    "        \n",
    "        return df\n",
    "    \n",
    "    except Exception as e:\n",
    "        print(f\"Error reading CSV file: {e}\")\n",
    "        return None"
   ]
  },
  {
   "cell_type": "code",
   "execution_count": 0,
   "metadata": {
    "application/vnd.databricks.v1+cell": {
     "cellMetadata": {
      "byteLimit": 2048000,
      "rowLimit": 10000
     },
     "inputWidgets": {},
     "nuid": "e5d7e890-dd4a-4c6b-9c2b-58fe560f89bc",
     "showTitle": false,
     "tableResultSettingsMap": {},
     "title": ""
    }
   },
   "outputs": [],
   "source": [
    "online_marketing = read_csv_from_blob(storage_account_name=storage_account_name,\n",
    "                                      container_name=container_name, \n",
    "                                      file_name=\"Online_Marketing_Data.csv\",\n",
    "                                      storage_account_key=storage_account_key)\n",
    "\n",
    "offline_marketing = read_csv_from_blob(storage_account_name=storage_account_name,\n",
    "                                      container_name=container_name, \n",
    "                                      file_name=\"Offline_Marketing_Data.csv\",\n",
    "                                      storage_account_key=storage_account_key)\n",
    "sales = read_csv_from_blob(storage_account_name=storage_account_name,\n",
    "                                      container_name=container_name, \n",
    "                                      file_name=\"Sales_Data.csv\",\n",
    "                                      storage_account_key=storage_account_key)\n",
    "price = read_csv_from_blob(storage_account_name=storage_account_name,\n",
    "                                      container_name=container_name, \n",
    "                                      file_name=\"Pricing_Data.csv\",\n",
    "                                      storage_account_key=storage_account_key)"
   ]
  },
  {
   "cell_type": "markdown",
   "metadata": {
    "application/vnd.databricks.v1+cell": {
     "cellMetadata": {},
     "inputWidgets": {},
     "nuid": "7e7a3543-f773-451c-835e-de4f1fae7eec",
     "showTitle": false,
     "tableResultSettingsMap": {},
     "title": ""
    }
   },
   "source": [
    "## Media Data Processing\n",
    "* Online Marketing data \n",
    "* Offline Marketing data"
   ]
  },
  {
   "cell_type": "code",
   "execution_count": 0,
   "metadata": {
    "application/vnd.databricks.v1+cell": {
     "cellMetadata": {
      "byteLimit": 2048000,
      "rowLimit": 10000
     },
     "inputWidgets": {},
     "nuid": "c17376db-f3c9-4a09-9e3d-c4172264b781",
     "showTitle": false,
     "tableResultSettingsMap": {},
     "title": ""
    },
    "colab": {
     "base_uri": "https://localhost:8080/",
     "height": 206
    },
    "id": "Kwr2tSoRWvvC",
    "outputId": "fd1d0314-4dce-4965-bede-26a154e7b597"
   },
   "outputs": [
    {
     "output_type": "execute_result",
     "data": {
      "text/html": [
       "<div>\n",
       "<style scoped>\n",
       "    .dataframe tbody tr th:only-of-type {\n",
       "        vertical-align: middle;\n",
       "    }\n",
       "\n",
       "    .dataframe tbody tr th {\n",
       "        vertical-align: top;\n",
       "    }\n",
       "\n",
       "    .dataframe thead th {\n",
       "        text-align: right;\n",
       "    }\n",
       "</style>\n",
       "<table border=\"1\" class=\"dataframe\">\n",
       "  <thead>\n",
       "    <tr style=\"text-align: right;\">\n",
       "      <th></th>\n",
       "      <th>date</th>\n",
       "      <th>channel</th>\n",
       "      <th>spend</th>\n",
       "      <th>impressions</th>\n",
       "      <th>clicks</th>\n",
       "    </tr>\n",
       "  </thead>\n",
       "  <tbody>\n",
       "    <tr>\n",
       "      <th>0</th>\n",
       "      <td>2023-01-01</td>\n",
       "      <td>Facebook</td>\n",
       "      <td>1152.82</td>\n",
       "      <td>20117</td>\n",
       "      <td>613</td>\n",
       "    </tr>\n",
       "    <tr>\n",
       "      <th>1</th>\n",
       "      <td>2023-01-01</td>\n",
       "      <td>Instagram</td>\n",
       "      <td>707.48</td>\n",
       "      <td>9760</td>\n",
       "      <td>196</td>\n",
       "    </tr>\n",
       "    <tr>\n",
       "      <th>2</th>\n",
       "      <td>2023-01-01</td>\n",
       "      <td>YouTube</td>\n",
       "      <td>703.13</td>\n",
       "      <td>11148</td>\n",
       "      <td>236</td>\n",
       "    </tr>\n",
       "    <tr>\n",
       "      <th>3</th>\n",
       "      <td>2023-01-01</td>\n",
       "      <td>Google Ads</td>\n",
       "      <td>810.68</td>\n",
       "      <td>12761</td>\n",
       "      <td>553</td>\n",
       "    </tr>\n",
       "    <tr>\n",
       "      <th>4</th>\n",
       "      <td>2023-01-01</td>\n",
       "      <td>Influencer Marketing</td>\n",
       "      <td>1122.12</td>\n",
       "      <td>22415</td>\n",
       "      <td>554</td>\n",
       "    </tr>\n",
       "  </tbody>\n",
       "</table>\n",
       "</div>"
      ],
      "text/plain": [
       "         date               channel    spend  impressions  clicks\n",
       "0  2023-01-01              Facebook  1152.82        20117     613\n",
       "1  2023-01-01             Instagram   707.48         9760     196\n",
       "2  2023-01-01               YouTube   703.13        11148     236\n",
       "3  2023-01-01            Google Ads   810.68        12761     553\n",
       "4  2023-01-01  Influencer Marketing  1122.12        22415     554"
      ]
     },
     "execution_count": 4,
     "metadata": {},
     "output_type": "execute_result"
    }
   ],
   "source": [
    "online_marketing.head()"
   ]
  },
  {
   "cell_type": "code",
   "execution_count": 0,
   "metadata": {
    "application/vnd.databricks.v1+cell": {
     "cellMetadata": {
      "byteLimit": 2048000,
      "rowLimit": 10000
     },
     "inputWidgets": {},
     "nuid": "bac2d70d-8954-4d5a-8814-f0948de00c2c",
     "showTitle": false,
     "tableResultSettingsMap": {},
     "title": ""
    },
    "id": "3DNVUuFhPbp-"
   },
   "outputs": [
    {
     "output_type": "execute_result",
     "data": {
      "text/html": [
       "<div>\n",
       "<style scoped>\n",
       "    .dataframe tbody tr th:only-of-type {\n",
       "        vertical-align: middle;\n",
       "    }\n",
       "\n",
       "    .dataframe tbody tr th {\n",
       "        vertical-align: top;\n",
       "    }\n",
       "\n",
       "    .dataframe thead th {\n",
       "        text-align: right;\n",
       "    }\n",
       "</style>\n",
       "<table border=\"1\" class=\"dataframe\">\n",
       "  <thead>\n",
       "    <tr style=\"text-align: right;\">\n",
       "      <th></th>\n",
       "      <th>week</th>\n",
       "      <th>channel</th>\n",
       "      <th>spend_online</th>\n",
       "      <th>impressions</th>\n",
       "      <th>clicks</th>\n",
       "      <th>spend_offline</th>\n",
       "      <th>CTR (%)</th>\n",
       "    </tr>\n",
       "  </thead>\n",
       "  <tbody>\n",
       "    <tr>\n",
       "      <th>0</th>\n",
       "      <td>2022-12-26</td>\n",
       "      <td>Facebook</td>\n",
       "      <td>1152.82</td>\n",
       "      <td>20117.0</td>\n",
       "      <td>613.0</td>\n",
       "      <td>NaN</td>\n",
       "      <td>3.047174</td>\n",
       "    </tr>\n",
       "    <tr>\n",
       "      <th>1</th>\n",
       "      <td>2022-12-26</td>\n",
       "      <td>Google Ads</td>\n",
       "      <td>810.68</td>\n",
       "      <td>12761.0</td>\n",
       "      <td>553.0</td>\n",
       "      <td>NaN</td>\n",
       "      <td>4.333516</td>\n",
       "    </tr>\n",
       "    <tr>\n",
       "      <th>2</th>\n",
       "      <td>2022-12-26</td>\n",
       "      <td>Influencer Marketing</td>\n",
       "      <td>1122.12</td>\n",
       "      <td>22415.0</td>\n",
       "      <td>554.0</td>\n",
       "      <td>NaN</td>\n",
       "      <td>2.471559</td>\n",
       "    </tr>\n",
       "    <tr>\n",
       "      <th>3</th>\n",
       "      <td>2022-12-26</td>\n",
       "      <td>Instagram</td>\n",
       "      <td>707.48</td>\n",
       "      <td>9760.0</td>\n",
       "      <td>196.0</td>\n",
       "      <td>NaN</td>\n",
       "      <td>2.008197</td>\n",
       "    </tr>\n",
       "    <tr>\n",
       "      <th>4</th>\n",
       "      <td>2022-12-26</td>\n",
       "      <td>YouTube</td>\n",
       "      <td>703.13</td>\n",
       "      <td>11148.0</td>\n",
       "      <td>236.0</td>\n",
       "      <td>NaN</td>\n",
       "      <td>2.116972</td>\n",
       "    </tr>\n",
       "  </tbody>\n",
       "</table>\n",
       "</div>"
      ],
      "text/plain": [
       "        week               channel  ...  spend_offline   CTR (%)\n",
       "0 2022-12-26              Facebook  ...            NaN  3.047174\n",
       "1 2022-12-26            Google Ads  ...            NaN  4.333516\n",
       "2 2022-12-26  Influencer Marketing  ...            NaN  2.471559\n",
       "3 2022-12-26             Instagram  ...            NaN  2.008197\n",
       "4 2022-12-26               YouTube  ...            NaN  2.116972\n",
       "\n",
       "[5 rows x 7 columns]"
      ]
     },
     "execution_count": 5,
     "metadata": {},
     "output_type": "execute_result"
    }
   ],
   "source": [
    "# Convert the 'date' column in the online marketing dataset to datetime format\n",
    "# This ensures consistent date formatting for further processing\n",
    "online_marketing['date'] = pd.to_datetime(online_marketing['date'])\n",
    "online_marketing['week'] = online_marketing['date'] - pd.to_timedelta(online_marketing['date'].dt.weekday, unit='d')\n",
    "\n",
    "#drop date column as we now have week column\n",
    "media_weekly = online_marketing.drop(['date'], axis=1)\n",
    "media_weekly = media_weekly.groupby(['week', 'channel']).sum().reset_index() # .agg({})\n",
    "\n",
    "offline_marketing['week'] = pd.to_datetime(offline_marketing['week'])  # Convert 'week' to datetime format\n",
    "media = pd.merge(\n",
    "    media_weekly,\n",
    "    offline_marketing,\n",
    "    on=['week', 'channel'],\n",
    "    how='outer',  # Include all rows from both datasets (outer join)\n",
    "    suffixes=('_online', '_offline')  # Differentiate overlapping column names\n",
    ") \n",
    "\n",
    "# Calculate CTR (Click-Through Rate)\n",
    "media['CTR (%)'] = (media['clicks'] / media['impressions']) * 100\n",
    "\n",
    "# Handle rows where impressions might be zero to avoid division by zero\n",
    "media['CTR (%)'] = media['CTR (%)'].fillna(0)\n",
    "\n",
    "media.head()\n"
   ]
  },
  {
   "cell_type": "markdown",
   "metadata": {
    "application/vnd.databricks.v1+cell": {
     "cellMetadata": {},
     "inputWidgets": {},
     "nuid": "6c44db40-d8fc-4ead-8c1e-60fa55cfcf9a",
     "showTitle": false,
     "tableResultSettingsMap": {},
     "title": ""
    },
    "id": "aVgIVtJlSBoD"
   },
   "source": [
    "## Sales Data Pre Processing\n",
    "* Sales data \n",
    "* Pricing data"
   ]
  },
  {
   "cell_type": "code",
   "execution_count": 0,
   "metadata": {
    "application/vnd.databricks.v1+cell": {
     "cellMetadata": {
      "byteLimit": 2048000,
      "rowLimit": 10000
     },
     "inputWidgets": {},
     "nuid": "670769b1-845d-4d91-8327-7060681d50e8",
     "showTitle": false,
     "tableResultSettingsMap": {},
     "title": ""
    }
   },
   "outputs": [
    {
     "output_type": "execute_result",
     "data": {
      "text/html": [
       "<div>\n",
       "<style scoped>\n",
       "    .dataframe tbody tr th:only-of-type {\n",
       "        vertical-align: middle;\n",
       "    }\n",
       "\n",
       "    .dataframe tbody tr th {\n",
       "        vertical-align: top;\n",
       "    }\n",
       "\n",
       "    .dataframe thead th {\n",
       "        text-align: right;\n",
       "    }\n",
       "</style>\n",
       "<table border=\"1\" class=\"dataframe\">\n",
       "  <thead>\n",
       "    <tr style=\"text-align: right;\">\n",
       "      <th></th>\n",
       "      <th>date</th>\n",
       "      <th>city</th>\n",
       "      <th>state</th>\n",
       "      <th>store_id</th>\n",
       "      <th>product_id</th>\n",
       "      <th>sales_quantity</th>\n",
       "    </tr>\n",
       "  </thead>\n",
       "  <tbody>\n",
       "    <tr>\n",
       "      <th>0</th>\n",
       "      <td>2023-01-01</td>\n",
       "      <td>Mumbai</td>\n",
       "      <td>Maharashtra</td>\n",
       "      <td>MUM_01</td>\n",
       "      <td>P001</td>\n",
       "      <td>112</td>\n",
       "    </tr>\n",
       "    <tr>\n",
       "      <th>1</th>\n",
       "      <td>2023-01-01</td>\n",
       "      <td>Mumbai</td>\n",
       "      <td>Maharashtra</td>\n",
       "      <td>MUM_01</td>\n",
       "      <td>P002</td>\n",
       "      <td>100</td>\n",
       "    </tr>\n",
       "    <tr>\n",
       "      <th>2</th>\n",
       "      <td>2023-01-01</td>\n",
       "      <td>Mumbai</td>\n",
       "      <td>Maharashtra</td>\n",
       "      <td>MUM_01</td>\n",
       "      <td>P003</td>\n",
       "      <td>126</td>\n",
       "    </tr>\n",
       "    <tr>\n",
       "      <th>3</th>\n",
       "      <td>2023-01-01</td>\n",
       "      <td>Mumbai</td>\n",
       "      <td>Maharashtra</td>\n",
       "      <td>MUM_01</td>\n",
       "      <td>P004</td>\n",
       "      <td>108</td>\n",
       "    </tr>\n",
       "    <tr>\n",
       "      <th>4</th>\n",
       "      <td>2023-01-01</td>\n",
       "      <td>Mumbai</td>\n",
       "      <td>Maharashtra</td>\n",
       "      <td>MUM_01</td>\n",
       "      <td>P005</td>\n",
       "      <td>129</td>\n",
       "    </tr>\n",
       "  </tbody>\n",
       "</table>\n",
       "</div>"
      ],
      "text/plain": [
       "         date    city        state store_id product_id  sales_quantity\n",
       "0  2023-01-01  Mumbai  Maharashtra   MUM_01       P001             112\n",
       "1  2023-01-01  Mumbai  Maharashtra   MUM_01       P002             100\n",
       "2  2023-01-01  Mumbai  Maharashtra   MUM_01       P003             126\n",
       "3  2023-01-01  Mumbai  Maharashtra   MUM_01       P004             108\n",
       "4  2023-01-01  Mumbai  Maharashtra   MUM_01       P005             129"
      ]
     },
     "execution_count": 6,
     "metadata": {},
     "output_type": "execute_result"
    }
   ],
   "source": [
    "sales.head()"
   ]
  },
  {
   "cell_type": "code",
   "execution_count": 0,
   "metadata": {
    "application/vnd.databricks.v1+cell": {
     "cellMetadata": {
      "byteLimit": 2048000,
      "rowLimit": 10000
     },
     "inputWidgets": {},
     "nuid": "b50049f1-dad8-426a-824a-8c72c61a1e5e",
     "showTitle": false,
     "tableResultSettingsMap": {},
     "title": ""
    }
   },
   "outputs": [
    {
     "output_type": "execute_result",
     "data": {
      "text/html": [
       "<div>\n",
       "<style scoped>\n",
       "    .dataframe tbody tr th:only-of-type {\n",
       "        vertical-align: middle;\n",
       "    }\n",
       "\n",
       "    .dataframe tbody tr th {\n",
       "        vertical-align: top;\n",
       "    }\n",
       "\n",
       "    .dataframe thead th {\n",
       "        text-align: right;\n",
       "    }\n",
       "</style>\n",
       "<table border=\"1\" class=\"dataframe\">\n",
       "  <thead>\n",
       "    <tr style=\"text-align: right;\">\n",
       "      <th></th>\n",
       "      <th>date</th>\n",
       "      <th>city</th>\n",
       "      <th>state</th>\n",
       "      <th>store_id</th>\n",
       "      <th>product_id</th>\n",
       "      <th>base_price</th>\n",
       "      <th>promotional_discount</th>\n",
       "      <th>promotion_type</th>\n",
       "      <th>final_price</th>\n",
       "    </tr>\n",
       "  </thead>\n",
       "  <tbody>\n",
       "    <tr>\n",
       "      <th>0</th>\n",
       "      <td>01-01-2023</td>\n",
       "      <td>Mumbai</td>\n",
       "      <td>Maharashtra</td>\n",
       "      <td>MUM_01</td>\n",
       "      <td>P001</td>\n",
       "      <td>134.35</td>\n",
       "      <td>6.72</td>\n",
       "      <td>Percentage Discount</td>\n",
       "      <td>127.63</td>\n",
       "    </tr>\n",
       "    <tr>\n",
       "      <th>1</th>\n",
       "      <td>01-01-2023</td>\n",
       "      <td>Mumbai</td>\n",
       "      <td>Maharashtra</td>\n",
       "      <td>MUM_02</td>\n",
       "      <td>P001</td>\n",
       "      <td>135.09</td>\n",
       "      <td>13.51</td>\n",
       "      <td>Percentage Discount</td>\n",
       "      <td>121.58</td>\n",
       "    </tr>\n",
       "    <tr>\n",
       "      <th>2</th>\n",
       "      <td>01-01-2023</td>\n",
       "      <td>Mumbai</td>\n",
       "      <td>Maharashtra</td>\n",
       "      <td>MUM_03</td>\n",
       "      <td>P001</td>\n",
       "      <td>136.33</td>\n",
       "      <td>0.00</td>\n",
       "      <td>None</td>\n",
       "      <td>136.33</td>\n",
       "    </tr>\n",
       "    <tr>\n",
       "      <th>3</th>\n",
       "      <td>01-01-2023</td>\n",
       "      <td>Mumbai</td>\n",
       "      <td>Maharashtra</td>\n",
       "      <td>MUM_04</td>\n",
       "      <td>P001</td>\n",
       "      <td>140.32</td>\n",
       "      <td>0.00</td>\n",
       "      <td>None</td>\n",
       "      <td>140.32</td>\n",
       "    </tr>\n",
       "    <tr>\n",
       "      <th>4</th>\n",
       "      <td>01-01-2023</td>\n",
       "      <td>Mumbai</td>\n",
       "      <td>Maharashtra</td>\n",
       "      <td>MUM_05</td>\n",
       "      <td>P001</td>\n",
       "      <td>142.32</td>\n",
       "      <td>14.23</td>\n",
       "      <td>Buy One Get One Free</td>\n",
       "      <td>128.09</td>\n",
       "    </tr>\n",
       "  </tbody>\n",
       "</table>\n",
       "</div>"
      ],
      "text/plain": [
       "         date    city  ...        promotion_type final_price\n",
       "0  01-01-2023  Mumbai  ...   Percentage Discount      127.63\n",
       "1  01-01-2023  Mumbai  ...   Percentage Discount      121.58\n",
       "2  01-01-2023  Mumbai  ...                  None      136.33\n",
       "3  01-01-2023  Mumbai  ...                  None      140.32\n",
       "4  01-01-2023  Mumbai  ...  Buy One Get One Free      128.09\n",
       "\n",
       "[5 rows x 9 columns]"
      ]
     },
     "execution_count": 7,
     "metadata": {},
     "output_type": "execute_result"
    }
   ],
   "source": [
    "price.head()"
   ]
  },
  {
   "cell_type": "code",
   "execution_count": 0,
   "metadata": {
    "application/vnd.databricks.v1+cell": {
     "cellMetadata": {
      "byteLimit": 2048000,
      "rowLimit": 10000
     },
     "inputWidgets": {},
     "nuid": "39efe207-f61d-4e6a-81f5-4167572b7434",
     "showTitle": false,
     "tableResultSettingsMap": {},
     "title": ""
    }
   },
   "outputs": [],
   "source": [
    "sales['date'] = pd.to_datetime(sales['date'], errors='coerce')\n",
    "price['date'] = pd.to_datetime(price['date'], errors='coerce')"
   ]
  },
  {
   "cell_type": "code",
   "execution_count": 0,
   "metadata": {
    "application/vnd.databricks.v1+cell": {
     "cellMetadata": {
      "byteLimit": 2048000,
      "rowLimit": 10000
     },
     "inputWidgets": {},
     "nuid": "bd963815-c842-4716-b8dc-2b6d00bd4d76",
     "showTitle": false,
     "tableResultSettingsMap": {},
     "title": ""
    }
   },
   "outputs": [
    {
     "output_type": "execute_result",
     "data": {
      "text/html": [
       "<div>\n",
       "<style scoped>\n",
       "    .dataframe tbody tr th:only-of-type {\n",
       "        vertical-align: middle;\n",
       "    }\n",
       "\n",
       "    .dataframe tbody tr th {\n",
       "        vertical-align: top;\n",
       "    }\n",
       "\n",
       "    .dataframe thead th {\n",
       "        text-align: right;\n",
       "    }\n",
       "</style>\n",
       "<table border=\"1\" class=\"dataframe\">\n",
       "  <thead>\n",
       "    <tr style=\"text-align: right;\">\n",
       "      <th></th>\n",
       "      <th>date</th>\n",
       "      <th>city</th>\n",
       "      <th>state</th>\n",
       "      <th>store_id</th>\n",
       "      <th>product_id</th>\n",
       "      <th>sales_quantity</th>\n",
       "      <th>base_price</th>\n",
       "      <th>promotional_discount</th>\n",
       "      <th>promotion_type</th>\n",
       "      <th>final_price</th>\n",
       "    </tr>\n",
       "  </thead>\n",
       "  <tbody>\n",
       "    <tr>\n",
       "      <th>0</th>\n",
       "      <td>2023-01-01</td>\n",
       "      <td>Mumbai</td>\n",
       "      <td>Maharashtra</td>\n",
       "      <td>MUM_01</td>\n",
       "      <td>P001</td>\n",
       "      <td>112</td>\n",
       "      <td>134.35</td>\n",
       "      <td>6.72</td>\n",
       "      <td>Percentage Discount</td>\n",
       "      <td>127.63</td>\n",
       "    </tr>\n",
       "    <tr>\n",
       "      <th>1</th>\n",
       "      <td>2023-01-01</td>\n",
       "      <td>Mumbai</td>\n",
       "      <td>Maharashtra</td>\n",
       "      <td>MUM_01</td>\n",
       "      <td>P002</td>\n",
       "      <td>100</td>\n",
       "      <td>114.54</td>\n",
       "      <td>11.45</td>\n",
       "      <td>Percentage Discount</td>\n",
       "      <td>103.09</td>\n",
       "    </tr>\n",
       "    <tr>\n",
       "      <th>2</th>\n",
       "      <td>2023-01-01</td>\n",
       "      <td>Mumbai</td>\n",
       "      <td>Maharashtra</td>\n",
       "      <td>MUM_01</td>\n",
       "      <td>P003</td>\n",
       "      <td>126</td>\n",
       "      <td>134.44</td>\n",
       "      <td>6.72</td>\n",
       "      <td>None</td>\n",
       "      <td>127.72</td>\n",
       "    </tr>\n",
       "    <tr>\n",
       "      <th>3</th>\n",
       "      <td>2023-01-01</td>\n",
       "      <td>Mumbai</td>\n",
       "      <td>Maharashtra</td>\n",
       "      <td>MUM_01</td>\n",
       "      <td>P004</td>\n",
       "      <td>108</td>\n",
       "      <td>107.04</td>\n",
       "      <td>10.70</td>\n",
       "      <td>Buy One Get One Free</td>\n",
       "      <td>96.34</td>\n",
       "    </tr>\n",
       "    <tr>\n",
       "      <th>4</th>\n",
       "      <td>2023-01-01</td>\n",
       "      <td>Mumbai</td>\n",
       "      <td>Maharashtra</td>\n",
       "      <td>MUM_01</td>\n",
       "      <td>P005</td>\n",
       "      <td>129</td>\n",
       "      <td>133.43</td>\n",
       "      <td>6.67</td>\n",
       "      <td>None</td>\n",
       "      <td>126.76</td>\n",
       "    </tr>\n",
       "  </tbody>\n",
       "</table>\n",
       "</div>"
      ],
      "text/plain": [
       "        date    city  ...        promotion_type final_price\n",
       "0 2023-01-01  Mumbai  ...   Percentage Discount      127.63\n",
       "1 2023-01-01  Mumbai  ...   Percentage Discount      103.09\n",
       "2 2023-01-01  Mumbai  ...                  None      127.72\n",
       "3 2023-01-01  Mumbai  ...  Buy One Get One Free       96.34\n",
       "4 2023-01-01  Mumbai  ...                  None      126.76\n",
       "\n",
       "[5 rows x 10 columns]"
      ]
     },
     "execution_count": 9,
     "metadata": {},
     "output_type": "execute_result"
    }
   ],
   "source": [
    "# Merge Sales and Pricing data\n",
    "# - Combine sales and pricing datasets based on common columns:\n",
    "#   'date', 'city', 'state', 'store_id', and 'product_id'.\n",
    "# - Use an inner join to retain only the rows where there are matches in both datasets.\n",
    "merged_sales_pricing = pd.merge(\n",
    "    sales,\n",
    "    price,\n",
    "    on=['date', 'city', 'state', 'store_id', 'product_id'],\n",
    "    how='inner'\n",
    ")\n",
    "\n",
    "merged_sales_pricing.head()"
   ]
  },
  {
   "cell_type": "code",
   "execution_count": 0,
   "metadata": {
    "application/vnd.databricks.v1+cell": {
     "cellMetadata": {
      "byteLimit": 2048000,
      "rowLimit": 10000
     },
     "inputWidgets": {},
     "nuid": "2cd53923-4c9b-41ac-bab6-98cafdfa8d3b",
     "showTitle": false,
     "tableResultSettingsMap": {},
     "title": ""
    },
    "id": "RkyM__CJSBR9"
   },
   "outputs": [],
   "source": [
    "# Calculate Sales Amount\n",
    "# - Create a new column 'sales_amount' by multiplying the quantity of products sold\n",
    "#   ('sales_quantity') with the 'final_price' of the product.\n",
    "merged_sales_pricing['sales_amount'] = (\n",
    "    merged_sales_pricing['sales_quantity'] * merged_sales_pricing['final_price'])"
   ]
  },
  {
   "cell_type": "code",
   "execution_count": 0,
   "metadata": {
    "application/vnd.databricks.v1+cell": {
     "cellMetadata": {
      "byteLimit": 2048000,
      "rowLimit": 10000
     },
     "inputWidgets": {},
     "nuid": "129545f5-1d08-4cce-90da-d5a61b68c5f0",
     "showTitle": false,
     "tableResultSettingsMap": {},
     "title": ""
    }
   },
   "outputs": [],
   "source": [
    "# Convert 'date' to datetime and create a 'week' column\n",
    "# - Convert the 'date' column to datetime format for consistency in processing.\n",
    "# - Derive the 'week' column to represent weekly aggregation.\n",
    "#   - Subtract the current weekday to align the date to the start of the week.\n",
    "#   - Add an offset to ensure the week starts on Sunday (weekday=6).\n",
    "merged_sales_pricing['date'] = pd.to_datetime(merged_sales_pricing['date'])\n",
    "merged_sales_pricing['week'] = (\n",
    "    merged_sales_pricing['date']\n",
    "    - pd.to_timedelta(merged_sales_pricing['date'].dt.weekday, unit='D')\n",
    "    + pd.offsets.Week(weekday=6)\n",
    ")"
   ]
  },
  {
   "cell_type": "code",
   "execution_count": 0,
   "metadata": {
    "application/vnd.databricks.v1+cell": {
     "cellMetadata": {
      "byteLimit": 2048000,
      "rowLimit": 10000
     },
     "inputWidgets": {},
     "nuid": "33934d32-e533-405c-adf9-2e995df3488c",
     "showTitle": false,
     "tableResultSettingsMap": {},
     "title": ""
    }
   },
   "outputs": [
    {
     "output_type": "execute_result",
     "data": {
      "text/html": [
       "<div>\n",
       "<style scoped>\n",
       "    .dataframe tbody tr th:only-of-type {\n",
       "        vertical-align: middle;\n",
       "    }\n",
       "\n",
       "    .dataframe tbody tr th {\n",
       "        vertical-align: top;\n",
       "    }\n",
       "\n",
       "    .dataframe thead th {\n",
       "        text-align: right;\n",
       "    }\n",
       "</style>\n",
       "<table border=\"1\" class=\"dataframe\">\n",
       "  <thead>\n",
       "    <tr style=\"text-align: right;\">\n",
       "      <th></th>\n",
       "      <th>date</th>\n",
       "      <th>city</th>\n",
       "      <th>state</th>\n",
       "      <th>store_id</th>\n",
       "      <th>product_id</th>\n",
       "      <th>sales_quantity</th>\n",
       "      <th>base_price</th>\n",
       "      <th>promotional_discount</th>\n",
       "      <th>promotion_type</th>\n",
       "      <th>final_price</th>\n",
       "      <th>sales_amount</th>\n",
       "      <th>week</th>\n",
       "    </tr>\n",
       "  </thead>\n",
       "  <tbody>\n",
       "    <tr>\n",
       "      <th>0</th>\n",
       "      <td>2023-01-01</td>\n",
       "      <td>Mumbai</td>\n",
       "      <td>Maharashtra</td>\n",
       "      <td>MUM_01</td>\n",
       "      <td>P001</td>\n",
       "      <td>112</td>\n",
       "      <td>134.35</td>\n",
       "      <td>6.72</td>\n",
       "      <td>Percentage Discount</td>\n",
       "      <td>127.63</td>\n",
       "      <td>14294.56</td>\n",
       "      <td>2023-01-01</td>\n",
       "    </tr>\n",
       "    <tr>\n",
       "      <th>1</th>\n",
       "      <td>2023-01-01</td>\n",
       "      <td>Mumbai</td>\n",
       "      <td>Maharashtra</td>\n",
       "      <td>MUM_01</td>\n",
       "      <td>P002</td>\n",
       "      <td>100</td>\n",
       "      <td>114.54</td>\n",
       "      <td>11.45</td>\n",
       "      <td>Percentage Discount</td>\n",
       "      <td>103.09</td>\n",
       "      <td>10309.00</td>\n",
       "      <td>2023-01-01</td>\n",
       "    </tr>\n",
       "    <tr>\n",
       "      <th>2</th>\n",
       "      <td>2023-01-01</td>\n",
       "      <td>Mumbai</td>\n",
       "      <td>Maharashtra</td>\n",
       "      <td>MUM_01</td>\n",
       "      <td>P003</td>\n",
       "      <td>126</td>\n",
       "      <td>134.44</td>\n",
       "      <td>6.72</td>\n",
       "      <td>None</td>\n",
       "      <td>127.72</td>\n",
       "      <td>16092.72</td>\n",
       "      <td>2023-01-01</td>\n",
       "    </tr>\n",
       "    <tr>\n",
       "      <th>3</th>\n",
       "      <td>2023-01-01</td>\n",
       "      <td>Mumbai</td>\n",
       "      <td>Maharashtra</td>\n",
       "      <td>MUM_01</td>\n",
       "      <td>P004</td>\n",
       "      <td>108</td>\n",
       "      <td>107.04</td>\n",
       "      <td>10.70</td>\n",
       "      <td>Buy One Get One Free</td>\n",
       "      <td>96.34</td>\n",
       "      <td>10404.72</td>\n",
       "      <td>2023-01-01</td>\n",
       "    </tr>\n",
       "    <tr>\n",
       "      <th>4</th>\n",
       "      <td>2023-01-01</td>\n",
       "      <td>Mumbai</td>\n",
       "      <td>Maharashtra</td>\n",
       "      <td>MUM_01</td>\n",
       "      <td>P005</td>\n",
       "      <td>129</td>\n",
       "      <td>133.43</td>\n",
       "      <td>6.67</td>\n",
       "      <td>None</td>\n",
       "      <td>126.76</td>\n",
       "      <td>16352.04</td>\n",
       "      <td>2023-01-01</td>\n",
       "    </tr>\n",
       "  </tbody>\n",
       "</table>\n",
       "</div>"
      ],
      "text/plain": [
       "        date    city        state  ... final_price sales_amount       week\n",
       "0 2023-01-01  Mumbai  Maharashtra  ...      127.63     14294.56 2023-01-01\n",
       "1 2023-01-01  Mumbai  Maharashtra  ...      103.09     10309.00 2023-01-01\n",
       "2 2023-01-01  Mumbai  Maharashtra  ...      127.72     16092.72 2023-01-01\n",
       "3 2023-01-01  Mumbai  Maharashtra  ...       96.34     10404.72 2023-01-01\n",
       "4 2023-01-01  Mumbai  Maharashtra  ...      126.76     16352.04 2023-01-01\n",
       "\n",
       "[5 rows x 12 columns]"
      ]
     },
     "execution_count": 12,
     "metadata": {},
     "output_type": "execute_result"
    }
   ],
   "source": [
    "merged_sales_pricing.head()"
   ]
  },
  {
   "cell_type": "code",
   "execution_count": 0,
   "metadata": {
    "application/vnd.databricks.v1+cell": {
     "cellMetadata": {
      "byteLimit": 2048000,
      "rowLimit": 10000
     },
     "inputWidgets": {},
     "nuid": "1d653a74-d638-425b-9554-3d2a73f23999",
     "showTitle": false,
     "tableResultSettingsMap": {},
     "title": ""
    }
   },
   "outputs": [],
   "source": [
    "# Convert 'date' to datetime and create a 'week' column\n",
    "# - Convert the 'date' column to datetime format for consistency in processing.\n",
    "# - Derive the 'week' column to represent weekly aggregation.\n",
    "#   - Subtract the current weekday to align the date to the start of the week.\n",
    "#   - Add an offset to ensure the week starts on Sunday (weekday=6).\n",
    "merged_sales_pricing['date'] = pd.to_datetime(merged_sales_pricing['date'])\n",
    "merged_sales_pricing['week'] = (\n",
    "    merged_sales_pricing['date']\n",
    "    - pd.to_timedelta(merged_sales_pricing['date'].dt.weekday, unit='D')\n",
    "    + pd.offsets.Week(weekday=6)\n",
    ")"
   ]
  },
  {
   "cell_type": "code",
   "execution_count": 0,
   "metadata": {
    "application/vnd.databricks.v1+cell": {
     "cellMetadata": {
      "byteLimit": 2048000,
      "rowLimit": 10000
     },
     "inputWidgets": {},
     "nuid": "db810082-5683-47a4-9550-d1db78e073f3",
     "showTitle": false,
     "tableResultSettingsMap": {},
     "title": ""
    }
   },
   "outputs": [],
   "source": [
    "# Group by week and aggregate other columns logically\n",
    "sales_amt = merged_sales_pricing.groupby('week').agg({\n",
    "    'sales_amount': 'sum',  # Total sales amount\n",
    "    'base_price': 'mean',  # Average base price\n",
    "    'final_price': 'mean',  # Average final price\n",
    "    'promotion_type': lambda x: x.mode().iloc[0] if not x.mode().empty else None  # Mode of promotion type \n",
    "}).reset_index()"
   ]
  },
  {
   "cell_type": "code",
   "execution_count": 0,
   "metadata": {
    "application/vnd.databricks.v1+cell": {
     "cellMetadata": {
      "byteLimit": 2048000,
      "rowLimit": 10000
     },
     "inputWidgets": {},
     "nuid": "3300d7e3-8132-4db7-8b2a-ab2126ef46aa",
     "showTitle": false,
     "tableResultSettingsMap": {},
     "title": ""
    }
   },
   "outputs": [
    {
     "output_type": "execute_result",
     "data": {
      "text/html": [
       "<div>\n",
       "<style scoped>\n",
       "    .dataframe tbody tr th:only-of-type {\n",
       "        vertical-align: middle;\n",
       "    }\n",
       "\n",
       "    .dataframe tbody tr th {\n",
       "        vertical-align: top;\n",
       "    }\n",
       "\n",
       "    .dataframe thead th {\n",
       "        text-align: right;\n",
       "    }\n",
       "</style>\n",
       "<table border=\"1\" class=\"dataframe\">\n",
       "  <thead>\n",
       "    <tr style=\"text-align: right;\">\n",
       "      <th></th>\n",
       "      <th>week</th>\n",
       "      <th>sales_amount</th>\n",
       "      <th>base_price</th>\n",
       "      <th>final_price</th>\n",
       "      <th>promotion_type</th>\n",
       "    </tr>\n",
       "  </thead>\n",
       "  <tbody>\n",
       "    <tr>\n",
       "      <th>0</th>\n",
       "      <td>2023-01-01</td>\n",
       "      <td>13516527.77</td>\n",
       "      <td>101.830513</td>\n",
       "      <td>94.148539</td>\n",
       "      <td>None</td>\n",
       "    </tr>\n",
       "    <tr>\n",
       "      <th>1</th>\n",
       "      <td>2023-01-08</td>\n",
       "      <td>95262872.49</td>\n",
       "      <td>102.025962</td>\n",
       "      <td>94.308786</td>\n",
       "      <td>None</td>\n",
       "    </tr>\n",
       "    <tr>\n",
       "      <th>2</th>\n",
       "      <td>2023-01-15</td>\n",
       "      <td>54399888.16</td>\n",
       "      <td>102.019562</td>\n",
       "      <td>94.481334</td>\n",
       "      <td>None</td>\n",
       "    </tr>\n",
       "  </tbody>\n",
       "</table>\n",
       "</div>"
      ],
      "text/plain": [
       "        week  sales_amount  base_price  final_price promotion_type\n",
       "0 2023-01-01   13516527.77  101.830513    94.148539           None\n",
       "1 2023-01-08   95262872.49  102.025962    94.308786           None\n",
       "2 2023-01-15   54399888.16  102.019562    94.481334           None"
      ]
     },
     "execution_count": 15,
     "metadata": {},
     "output_type": "execute_result"
    }
   ],
   "source": [
    "sales_amt.head()"
   ]
  },
  {
   "cell_type": "markdown",
   "metadata": {
    "application/vnd.databricks.v1+cell": {
     "cellMetadata": {},
     "inputWidgets": {},
     "nuid": "f07c34c2-4e82-47d6-b63e-7ec0ff9daeca",
     "showTitle": false,
     "tableResultSettingsMap": {},
     "title": ""
    }
   },
   "source": [
    "## Final data"
   ]
  },
  {
   "cell_type": "code",
   "execution_count": 0,
   "metadata": {
    "application/vnd.databricks.v1+cell": {
     "cellMetadata": {
      "byteLimit": 2048000,
      "rowLimit": 10000
     },
     "inputWidgets": {},
     "nuid": "8432e222-fcb3-47d0-9285-1a1f21629f80",
     "showTitle": false,
     "tableResultSettingsMap": {},
     "title": ""
    }
   },
   "outputs": [],
   "source": [
    "# Merge the two dataframes on the `week` column\n",
    "merged_df = pd.merge(sales_amt, media, on='week', how='left')"
   ]
  },
  {
   "cell_type": "code",
   "execution_count": 0,
   "metadata": {
    "application/vnd.databricks.v1+cell": {
     "cellMetadata": {
      "byteLimit": 2048000,
      "rowLimit": 10000
     },
     "inputWidgets": {},
     "nuid": "073ac2d9-7a70-41f9-80f9-63ffbf26c91e",
     "showTitle": false,
     "tableResultSettingsMap": {},
     "title": ""
    }
   },
   "outputs": [
    {
     "output_type": "execute_result",
     "data": {
      "text/html": [
       "<div>\n",
       "<style scoped>\n",
       "    .dataframe tbody tr th:only-of-type {\n",
       "        vertical-align: middle;\n",
       "    }\n",
       "\n",
       "    .dataframe tbody tr th {\n",
       "        vertical-align: top;\n",
       "    }\n",
       "\n",
       "    .dataframe thead th {\n",
       "        text-align: right;\n",
       "    }\n",
       "</style>\n",
       "<table border=\"1\" class=\"dataframe\">\n",
       "  <thead>\n",
       "    <tr style=\"text-align: right;\">\n",
       "      <th></th>\n",
       "      <th>week</th>\n",
       "      <th>sales_amount</th>\n",
       "      <th>base_price</th>\n",
       "      <th>final_price</th>\n",
       "      <th>promotion_type</th>\n",
       "      <th>channel</th>\n",
       "      <th>spend_online</th>\n",
       "      <th>impressions</th>\n",
       "      <th>clicks</th>\n",
       "      <th>spend_offline</th>\n",
       "      <th>CTR (%)</th>\n",
       "    </tr>\n",
       "  </thead>\n",
       "  <tbody>\n",
       "    <tr>\n",
       "      <th>0</th>\n",
       "      <td>2023-01-01</td>\n",
       "      <td>13516527.77</td>\n",
       "      <td>101.830513</td>\n",
       "      <td>94.148539</td>\n",
       "      <td>None</td>\n",
       "      <td>TV</td>\n",
       "      <td>NaN</td>\n",
       "      <td>NaN</td>\n",
       "      <td>NaN</td>\n",
       "      <td>11311.42</td>\n",
       "      <td>0.0</td>\n",
       "    </tr>\n",
       "    <tr>\n",
       "      <th>1</th>\n",
       "      <td>2023-01-01</td>\n",
       "      <td>13516527.77</td>\n",
       "      <td>101.830513</td>\n",
       "      <td>94.148539</td>\n",
       "      <td>None</td>\n",
       "      <td>Radio</td>\n",
       "      <td>NaN</td>\n",
       "      <td>NaN</td>\n",
       "      <td>NaN</td>\n",
       "      <td>6723.33</td>\n",
       "      <td>0.0</td>\n",
       "    </tr>\n",
       "    <tr>\n",
       "      <th>2</th>\n",
       "      <td>2023-01-01</td>\n",
       "      <td>13516527.77</td>\n",
       "      <td>101.830513</td>\n",
       "      <td>94.148539</td>\n",
       "      <td>None</td>\n",
       "      <td>Print</td>\n",
       "      <td>NaN</td>\n",
       "      <td>NaN</td>\n",
       "      <td>NaN</td>\n",
       "      <td>6214.43</td>\n",
       "      <td>0.0</td>\n",
       "    </tr>\n",
       "    <tr>\n",
       "      <th>3</th>\n",
       "      <td>2023-01-01</td>\n",
       "      <td>13516527.77</td>\n",
       "      <td>101.830513</td>\n",
       "      <td>94.148539</td>\n",
       "      <td>None</td>\n",
       "      <td>OOH</td>\n",
       "      <td>NaN</td>\n",
       "      <td>NaN</td>\n",
       "      <td>NaN</td>\n",
       "      <td>11230.47</td>\n",
       "      <td>0.0</td>\n",
       "    </tr>\n",
       "    <tr>\n",
       "      <th>4</th>\n",
       "      <td>2023-01-08</td>\n",
       "      <td>95262872.49</td>\n",
       "      <td>102.025962</td>\n",
       "      <td>94.308786</td>\n",
       "      <td>None</td>\n",
       "      <td>TV</td>\n",
       "      <td>NaN</td>\n",
       "      <td>NaN</td>\n",
       "      <td>NaN</td>\n",
       "      <td>14004.01</td>\n",
       "      <td>0.0</td>\n",
       "    </tr>\n",
       "  </tbody>\n",
       "</table>\n",
       "</div>"
      ],
      "text/plain": [
       "        week  sales_amount  base_price  ...  clicks spend_offline CTR (%)\n",
       "0 2023-01-01   13516527.77  101.830513  ...     NaN      11311.42     0.0\n",
       "1 2023-01-01   13516527.77  101.830513  ...     NaN       6723.33     0.0\n",
       "2 2023-01-01   13516527.77  101.830513  ...     NaN       6214.43     0.0\n",
       "3 2023-01-01   13516527.77  101.830513  ...     NaN      11230.47     0.0\n",
       "4 2023-01-08   95262872.49  102.025962  ...     NaN      14004.01     0.0\n",
       "\n",
       "[5 rows x 11 columns]"
      ]
     },
     "execution_count": 17,
     "metadata": {},
     "output_type": "execute_result"
    }
   ],
   "source": [
    "merged_df.head()"
   ]
  }
 ],
 "metadata": {
  "application/vnd.databricks.v1+notebook": {
   "computePreferences": null,
   "dashboards": [],
   "environmentMetadata": null,
   "inputWidgetPreferences": null,
   "language": "python",
   "notebookMetadata": {
    "pythonIndentUnit": 4
   },
   "notebookName": "Data Pre Processing Buggy Notebook",
   "widgets": {}
  },
  "colab": {
   "name": "mansi_6132ffc3-f406-475e-9a90-65f50b14b4a8 (Apr 22, 2025, 4:50:39 PM)",
   "provenance": []
  },
  "kernelspec": {
   "display_name": "Python 3",
   "language": "python",
   "name": "python3"
  },
  "language_info": {
   "name": "python"
  }
 },
 "nbformat": 4,
 "nbformat_minor": 0
}
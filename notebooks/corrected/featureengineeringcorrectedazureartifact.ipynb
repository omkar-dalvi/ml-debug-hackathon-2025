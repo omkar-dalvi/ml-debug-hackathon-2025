{
  "cells": [
    {
      "cell_type": "markdown",
      "id": "_GFZdsKl_Axs",
      "metadata": {
        "id": "_GFZdsKl_Axs"
      },
      "source": [
        "## Data Loading\n",
        "\n"
      ]
    },
    {
      "cell_type": "code",
      "execution_count": 7,
      "id": "47fd39af",
      "metadata": {},
      "outputs": [
        {
          "name": "stdout",
          "output_type": "stream",
          "text": [
            "d:\\GitHub repos\\ml-debug-hackathon-2025\\notebooks\\corrected\n"
          ]
        }
      ],
      "source": [
        "! cd"
      ]
    },
    {
      "cell_type": "code",
      "execution_count": 9,
      "id": "XFXDM3ATIEIm2uhMuWkR780Y",
      "metadata": {
        "id": "XFXDM3ATIEIm2uhMuWkR780Y",
        "tags": []
      },
      "outputs": [
        {
          "name": "stdout",
          "output_type": "stream",
          "text": [
            "data\n"
          ]
        }
      ],
      "source": [
        "from azure.storage.filedatalake import DataLakeServiceClient\n",
        "\n",
        "from dotenv import load_dotenv\n",
        "import os\n",
        "\n",
        "# Load environment variables from .env file\n",
        "load_dotenv('.env')\n",
        "\n",
        "# Replace with your details\n",
        "storage_account_name = \"mldebugdevadls\"\n",
        "storage_account_key = os.getenv('AZURE_STORAGE_KEY')\n",
        "\n",
        "# Connect to ADLS\n",
        "service_client = DataLakeServiceClient(\n",
        "    account_url=f\"https://{storage_account_name}.dfs.core.windows.net\",\n",
        "    credential=storage_account_key,\n",
        "    api_version=\"2023-11-03\"  # Use the correct supported API version\n",
        ")\n",
        "\n",
        "# List Containers\n",
        "containers = service_client.list_file_systems()\n",
        "for container in containers:\n",
        "    print(container.name)\n"
      ]
    },
    {
      "cell_type": "code",
      "execution_count": 10,
      "id": "7ARZLL___R0y",
      "metadata": {
        "id": "7ARZLL___R0y"
      },
      "outputs": [],
      "source": [
        "# Replace with your details\n",
        "container_name = 'data'"
      ]
    },
    {
      "cell_type": "code",
      "execution_count": 11,
      "id": "_GdSNyB-_VYu",
      "metadata": {
        "id": "_GdSNyB-_VYu"
      },
      "outputs": [],
      "source": [
        "import os\n",
        "from azure.storage.blob import BlobServiceClient\n",
        "import pandas as pd\n",
        "import io\n",
        "\n",
        "def read_csv_from_blob(storage_account_name, container_name, file_name, storage_account_key=None):\n",
        "    \"\"\"\n",
        "    Read a CSV file from Azure Blob Storage using Python and return a Pandas DataFrame.\n",
        "\n",
        "    :param storage_account_name: Azure storage account name.\n",
        "    :param container_name: Blob container name.\n",
        "    :param file_name: Name of the file in the container.\n",
        "    :param storage_account_key: Storage account access key.\n",
        "    :return: Pandas DataFrame.\n",
        "    \"\"\"\n",
        "\n",
        "    if not storage_account_key:\n",
        "        # Try to get the key from environment variables if not provided\n",
        "        storage_account_key = os.environ.get('AZURE_STORAGE_KEY')\n",
        "\n",
        "    if not storage_account_key:\n",
        "        raise ValueError(\"Storage account key must be provided either as a parameter or as an environment variable 'AZURE_STORAGE_KEY'\")\n",
        "\n",
        "    try:\n",
        "        # Create a connection string\n",
        "        connection_string = f\"DefaultEndpointsProtocol=https;AccountName={storage_account_name};AccountKey={storage_account_key};EndpointSuffix=core.windows.net\"\n",
        "\n",
        "        # Create the BlobServiceClient\n",
        "        blob_service_client = BlobServiceClient.from_connection_string(connection_string)\n",
        "\n",
        "        # Get the container client\n",
        "        container_client = blob_service_client.get_container_client(container_name)\n",
        "\n",
        "        # Get the blob client\n",
        "        blob_client = container_client.get_blob_client(file_name)\n",
        "\n",
        "        # Download the blob content\n",
        "        download_stream = blob_client.download_blob()\n",
        "\n",
        "        # Convert the content to a DataFrame\n",
        "        content = download_stream.readall()\n",
        "        df = pd.read_csv(io.BytesIO(content))\n",
        "\n",
        "        return df\n",
        "\n",
        "    except Exception as e:\n",
        "        print(f\"Error reading CSV file: {e}\")\n",
        "        return None"
      ]
    },
    {
      "cell_type": "code",
      "execution_count": 12,
      "id": "jFiQINfv_Z1E",
      "metadata": {
        "id": "jFiQINfv_Z1E"
      },
      "outputs": [],
      "source": [
        "online_marketing = read_csv_from_blob(storage_account_name=storage_account_name,\n",
        "                                      container_name=container_name, \n",
        "                                      file_name=\"OnlineMarketingData.csv\",\n",
        "                                      storage_account_key=storage_account_key)\n",
        "offline_marketing = read_csv_from_blob(storage_account_name=storage_account_name,\n",
        "                                      container_name=container_name, \n",
        "                                      file_name=\"OfflineMarketingData.csv\",\n",
        "                                      storage_account_key=storage_account_key)\n",
        "sales = read_csv_from_blob(storage_account_name=storage_account_name,\n",
        "                                      container_name=container_name, \n",
        "                                      file_name=\"SalesData.csv\",\n",
        "                                      storage_account_key=storage_account_key)\n",
        "price = read_csv_from_blob(storage_account_name=storage_account_name,\n",
        "                                      container_name=container_name, \n",
        "                                      file_name=\"PricingData.csv\",\n",
        "                                      storage_account_key=storage_account_key)"
      ]
    },
    {
      "cell_type": "markdown",
      "id": "uN20Tdx7_b2o",
      "metadata": {
        "id": "uN20Tdx7_b2o"
      },
      "source": [
        "## Importing Libraries"
      ]
    },
    {
      "cell_type": "code",
      "execution_count": 13,
      "id": "MjCZTwQb_eXx",
      "metadata": {
        "id": "MjCZTwQb_eXx"
      },
      "outputs": [],
      "source": [
        "import pandas as pd\n",
        "import numpy as np\n",
        "import matplotlib.pyplot as plt\n",
        "import seaborn as sns\n",
        "from sklearn.preprocessing import MinMaxScaler\n",
        "from statsmodels.tsa.seasonal import seasonal_decompose\n",
        "import statsmodels.api as sm"
      ]
    },
    {
      "cell_type": "markdown",
      "id": "oR0pNutuBXSn",
      "metadata": {
        "id": "oR0pNutuBXSn"
      },
      "source": [
        "## Data Pre Processing"
      ]
    },
    {
      "cell_type": "code",
      "execution_count": 14,
      "id": "aPQ3DDZp_jV_",
      "metadata": {
        "id": "aPQ3DDZp_jV_"
      },
      "outputs": [],
      "source": [
        "# Read sales data and convert to date to datetime\n",
        "sales['date'] =  pd.to_datetime(sales['date'])\n",
        "\n",
        "#read offline marketing data and convert week to datetime\n",
        "offline_marketing['week'] = pd.to_datetime(offline_marketing['week'])\n",
        "\n",
        "#read online marketing data and convert to datetime\n",
        "online_marketing['date'] = pd.to_datetime(online_marketing['date'])"
      ]
    },
    {
      "cell_type": "code",
      "execution_count": 15,
      "id": "pOVLSh5WAuC5",
      "metadata": {
        "id": "pOVLSh5WAuC5"
      },
      "outputs": [],
      "source": [
        "# Calculate total daily sales to match with marketing data\n",
        "daily_sales = sales.groupby('date')['sales_quantity'].sum().reset_index()\n",
        "daily_sales.rename(columns={'sales_quantity': 'total_sales'}, inplace=True)"
      ]
    },
    {
      "cell_type": "code",
      "execution_count": 16,
      "id": "oE8-XSupA4do",
      "metadata": {
        "id": "oE8-XSupA4do"
      },
      "outputs": [],
      "source": [
        "# Merge digital data with daily sales for analysis\n",
        "digital_sales = pd.merge(online_marketing, daily_sales, on='date', how='left')"
      ]
    },
    {
      "cell_type": "code",
      "execution_count": 17,
      "id": "rBE5AmXaA9u5",
      "metadata": {
        "id": "rBE5AmXaA9u5"
      },
      "outputs": [],
      "source": [
        "# Aggregate weekly sales for comparison with weekly media spend\n",
        "weekly_sales = daily_sales.copy()\n",
        "weekly_sales['week'] = pd.to_datetime(weekly_sales['date']).dt.to_period('W-SAT').dt.start_time\n",
        "weekly_sales = weekly_sales.groupby('week')['total_sales'].sum().reset_index()"
      ]
    },
    {
      "cell_type": "code",
      "execution_count": 18,
      "id": "445847c7",
      "metadata": {},
      "outputs": [
        {
          "data": {
            "application/vnd.microsoft.datawrangler.viewer.v0+json": {
              "columns": [
                {
                  "name": "index",
                  "rawType": "int64",
                  "type": "integer"
                },
                {
                  "name": "week",
                  "rawType": "datetime64[ns]",
                  "type": "datetime"
                },
                {
                  "name": "total_sales",
                  "rawType": "int64",
                  "type": "integer"
                }
              ],
              "conversionMethod": "pd.DataFrame",
              "ref": "7a4a6c50-1382-4ac3-bcd3-4f9b3b169976",
              "rows": [
                [
                  "0",
                  "2023-01-01 00:00:00",
                  "1005836"
                ],
                [
                  "1",
                  "2023-01-08 00:00:00",
                  "1010621"
                ],
                [
                  "2",
                  "2023-01-15 00:00:00",
                  "1007025"
                ],
                [
                  "3",
                  "2023-01-22 00:00:00",
                  "1006524"
                ],
                [
                  "4",
                  "2023-01-29 00:00:00",
                  "1004040"
                ],
                [
                  "5",
                  "2023-02-05 00:00:00",
                  "1007593"
                ],
                [
                  "6",
                  "2023-02-12 00:00:00",
                  "1002880"
                ],
                [
                  "7",
                  "2023-02-19 00:00:00",
                  "1003058"
                ],
                [
                  "8",
                  "2023-02-26 00:00:00",
                  "1003502"
                ],
                [
                  "9",
                  "2023-03-05 00:00:00",
                  "1004209"
                ],
                [
                  "10",
                  "2023-03-12 00:00:00",
                  "1004162"
                ],
                [
                  "11",
                  "2023-03-19 00:00:00",
                  "1000289"
                ],
                [
                  "12",
                  "2023-03-26 00:00:00",
                  "1009120"
                ],
                [
                  "13",
                  "2023-04-02 00:00:00",
                  "1001557"
                ],
                [
                  "14",
                  "2023-04-09 00:00:00",
                  "1006147"
                ],
                [
                  "15",
                  "2023-04-16 00:00:00",
                  "1010079"
                ],
                [
                  "16",
                  "2023-04-23 00:00:00",
                  "1005041"
                ],
                [
                  "17",
                  "2023-04-30 00:00:00",
                  "1006583"
                ],
                [
                  "18",
                  "2023-05-07 00:00:00",
                  "1009405"
                ],
                [
                  "19",
                  "2023-05-14 00:00:00",
                  "1002899"
                ],
                [
                  "20",
                  "2023-05-21 00:00:00",
                  "1005351"
                ],
                [
                  "21",
                  "2023-05-28 00:00:00",
                  "1011066"
                ],
                [
                  "22",
                  "2023-06-04 00:00:00",
                  "1004794"
                ],
                [
                  "23",
                  "2023-06-11 00:00:00",
                  "1008503"
                ],
                [
                  "24",
                  "2023-06-18 00:00:00",
                  "999861"
                ],
                [
                  "25",
                  "2023-06-25 00:00:00",
                  "1003492"
                ],
                [
                  "26",
                  "2023-07-02 00:00:00",
                  "1000985"
                ],
                [
                  "27",
                  "2023-07-09 00:00:00",
                  "1007510"
                ],
                [
                  "28",
                  "2023-07-16 00:00:00",
                  "1002336"
                ],
                [
                  "29",
                  "2023-07-23 00:00:00",
                  "1000584"
                ],
                [
                  "30",
                  "2023-07-30 00:00:00",
                  "1008657"
                ],
                [
                  "31",
                  "2023-08-06 00:00:00",
                  "1006542"
                ],
                [
                  "32",
                  "2023-08-13 00:00:00",
                  "1009026"
                ],
                [
                  "33",
                  "2023-08-20 00:00:00",
                  "1000991"
                ],
                [
                  "34",
                  "2023-08-27 00:00:00",
                  "1004019"
                ],
                [
                  "35",
                  "2023-09-03 00:00:00",
                  "1003307"
                ],
                [
                  "36",
                  "2023-09-10 00:00:00",
                  "1005057"
                ],
                [
                  "37",
                  "2023-09-17 00:00:00",
                  "1009257"
                ],
                [
                  "38",
                  "2023-09-24 00:00:00",
                  "1002024"
                ],
                [
                  "39",
                  "2023-10-01 00:00:00",
                  "1010483"
                ],
                [
                  "40",
                  "2023-10-08 00:00:00",
                  "1009339"
                ],
                [
                  "41",
                  "2023-10-15 00:00:00",
                  "1003574"
                ],
                [
                  "42",
                  "2023-10-22 00:00:00",
                  "1004346"
                ],
                [
                  "43",
                  "2023-10-29 00:00:00",
                  "1006398"
                ],
                [
                  "44",
                  "2023-11-05 00:00:00",
                  "1007955"
                ],
                [
                  "45",
                  "2023-11-12 00:00:00",
                  "1004881"
                ],
                [
                  "46",
                  "2023-11-19 00:00:00",
                  "1007820"
                ],
                [
                  "47",
                  "2023-11-26 00:00:00",
                  "1006359"
                ],
                [
                  "48",
                  "2023-12-03 00:00:00",
                  "1006468"
                ],
                [
                  "49",
                  "2023-12-10 00:00:00",
                  "1003495"
                ]
              ],
              "shape": {
                "columns": 2,
                "rows": 53
              }
            },
            "text/html": [
              "<div>\n",
              "<style scoped>\n",
              "    .dataframe tbody tr th:only-of-type {\n",
              "        vertical-align: middle;\n",
              "    }\n",
              "\n",
              "    .dataframe tbody tr th {\n",
              "        vertical-align: top;\n",
              "    }\n",
              "\n",
              "    .dataframe thead th {\n",
              "        text-align: right;\n",
              "    }\n",
              "</style>\n",
              "<table border=\"1\" class=\"dataframe\">\n",
              "  <thead>\n",
              "    <tr style=\"text-align: right;\">\n",
              "      <th></th>\n",
              "      <th>week</th>\n",
              "      <th>total_sales</th>\n",
              "    </tr>\n",
              "  </thead>\n",
              "  <tbody>\n",
              "    <tr>\n",
              "      <th>0</th>\n",
              "      <td>2023-01-01</td>\n",
              "      <td>1005836</td>\n",
              "    </tr>\n",
              "    <tr>\n",
              "      <th>1</th>\n",
              "      <td>2023-01-08</td>\n",
              "      <td>1010621</td>\n",
              "    </tr>\n",
              "    <tr>\n",
              "      <th>2</th>\n",
              "      <td>2023-01-15</td>\n",
              "      <td>1007025</td>\n",
              "    </tr>\n",
              "    <tr>\n",
              "      <th>3</th>\n",
              "      <td>2023-01-22</td>\n",
              "      <td>1006524</td>\n",
              "    </tr>\n",
              "    <tr>\n",
              "      <th>4</th>\n",
              "      <td>2023-01-29</td>\n",
              "      <td>1004040</td>\n",
              "    </tr>\n",
              "    <tr>\n",
              "      <th>5</th>\n",
              "      <td>2023-02-05</td>\n",
              "      <td>1007593</td>\n",
              "    </tr>\n",
              "    <tr>\n",
              "      <th>6</th>\n",
              "      <td>2023-02-12</td>\n",
              "      <td>1002880</td>\n",
              "    </tr>\n",
              "    <tr>\n",
              "      <th>7</th>\n",
              "      <td>2023-02-19</td>\n",
              "      <td>1003058</td>\n",
              "    </tr>\n",
              "    <tr>\n",
              "      <th>8</th>\n",
              "      <td>2023-02-26</td>\n",
              "      <td>1003502</td>\n",
              "    </tr>\n",
              "    <tr>\n",
              "      <th>9</th>\n",
              "      <td>2023-03-05</td>\n",
              "      <td>1004209</td>\n",
              "    </tr>\n",
              "    <tr>\n",
              "      <th>10</th>\n",
              "      <td>2023-03-12</td>\n",
              "      <td>1004162</td>\n",
              "    </tr>\n",
              "    <tr>\n",
              "      <th>11</th>\n",
              "      <td>2023-03-19</td>\n",
              "      <td>1000289</td>\n",
              "    </tr>\n",
              "    <tr>\n",
              "      <th>12</th>\n",
              "      <td>2023-03-26</td>\n",
              "      <td>1009120</td>\n",
              "    </tr>\n",
              "    <tr>\n",
              "      <th>13</th>\n",
              "      <td>2023-04-02</td>\n",
              "      <td>1001557</td>\n",
              "    </tr>\n",
              "    <tr>\n",
              "      <th>14</th>\n",
              "      <td>2023-04-09</td>\n",
              "      <td>1006147</td>\n",
              "    </tr>\n",
              "    <tr>\n",
              "      <th>15</th>\n",
              "      <td>2023-04-16</td>\n",
              "      <td>1010079</td>\n",
              "    </tr>\n",
              "    <tr>\n",
              "      <th>16</th>\n",
              "      <td>2023-04-23</td>\n",
              "      <td>1005041</td>\n",
              "    </tr>\n",
              "    <tr>\n",
              "      <th>17</th>\n",
              "      <td>2023-04-30</td>\n",
              "      <td>1006583</td>\n",
              "    </tr>\n",
              "    <tr>\n",
              "      <th>18</th>\n",
              "      <td>2023-05-07</td>\n",
              "      <td>1009405</td>\n",
              "    </tr>\n",
              "    <tr>\n",
              "      <th>19</th>\n",
              "      <td>2023-05-14</td>\n",
              "      <td>1002899</td>\n",
              "    </tr>\n",
              "    <tr>\n",
              "      <th>20</th>\n",
              "      <td>2023-05-21</td>\n",
              "      <td>1005351</td>\n",
              "    </tr>\n",
              "    <tr>\n",
              "      <th>21</th>\n",
              "      <td>2023-05-28</td>\n",
              "      <td>1011066</td>\n",
              "    </tr>\n",
              "    <tr>\n",
              "      <th>22</th>\n",
              "      <td>2023-06-04</td>\n",
              "      <td>1004794</td>\n",
              "    </tr>\n",
              "    <tr>\n",
              "      <th>23</th>\n",
              "      <td>2023-06-11</td>\n",
              "      <td>1008503</td>\n",
              "    </tr>\n",
              "    <tr>\n",
              "      <th>24</th>\n",
              "      <td>2023-06-18</td>\n",
              "      <td>999861</td>\n",
              "    </tr>\n",
              "    <tr>\n",
              "      <th>25</th>\n",
              "      <td>2023-06-25</td>\n",
              "      <td>1003492</td>\n",
              "    </tr>\n",
              "    <tr>\n",
              "      <th>26</th>\n",
              "      <td>2023-07-02</td>\n",
              "      <td>1000985</td>\n",
              "    </tr>\n",
              "    <tr>\n",
              "      <th>27</th>\n",
              "      <td>2023-07-09</td>\n",
              "      <td>1007510</td>\n",
              "    </tr>\n",
              "    <tr>\n",
              "      <th>28</th>\n",
              "      <td>2023-07-16</td>\n",
              "      <td>1002336</td>\n",
              "    </tr>\n",
              "    <tr>\n",
              "      <th>29</th>\n",
              "      <td>2023-07-23</td>\n",
              "      <td>1000584</td>\n",
              "    </tr>\n",
              "    <tr>\n",
              "      <th>30</th>\n",
              "      <td>2023-07-30</td>\n",
              "      <td>1008657</td>\n",
              "    </tr>\n",
              "    <tr>\n",
              "      <th>31</th>\n",
              "      <td>2023-08-06</td>\n",
              "      <td>1006542</td>\n",
              "    </tr>\n",
              "    <tr>\n",
              "      <th>32</th>\n",
              "      <td>2023-08-13</td>\n",
              "      <td>1009026</td>\n",
              "    </tr>\n",
              "    <tr>\n",
              "      <th>33</th>\n",
              "      <td>2023-08-20</td>\n",
              "      <td>1000991</td>\n",
              "    </tr>\n",
              "    <tr>\n",
              "      <th>34</th>\n",
              "      <td>2023-08-27</td>\n",
              "      <td>1004019</td>\n",
              "    </tr>\n",
              "    <tr>\n",
              "      <th>35</th>\n",
              "      <td>2023-09-03</td>\n",
              "      <td>1003307</td>\n",
              "    </tr>\n",
              "    <tr>\n",
              "      <th>36</th>\n",
              "      <td>2023-09-10</td>\n",
              "      <td>1005057</td>\n",
              "    </tr>\n",
              "    <tr>\n",
              "      <th>37</th>\n",
              "      <td>2023-09-17</td>\n",
              "      <td>1009257</td>\n",
              "    </tr>\n",
              "    <tr>\n",
              "      <th>38</th>\n",
              "      <td>2023-09-24</td>\n",
              "      <td>1002024</td>\n",
              "    </tr>\n",
              "    <tr>\n",
              "      <th>39</th>\n",
              "      <td>2023-10-01</td>\n",
              "      <td>1010483</td>\n",
              "    </tr>\n",
              "    <tr>\n",
              "      <th>40</th>\n",
              "      <td>2023-10-08</td>\n",
              "      <td>1009339</td>\n",
              "    </tr>\n",
              "    <tr>\n",
              "      <th>41</th>\n",
              "      <td>2023-10-15</td>\n",
              "      <td>1003574</td>\n",
              "    </tr>\n",
              "    <tr>\n",
              "      <th>42</th>\n",
              "      <td>2023-10-22</td>\n",
              "      <td>1004346</td>\n",
              "    </tr>\n",
              "    <tr>\n",
              "      <th>43</th>\n",
              "      <td>2023-10-29</td>\n",
              "      <td>1006398</td>\n",
              "    </tr>\n",
              "    <tr>\n",
              "      <th>44</th>\n",
              "      <td>2023-11-05</td>\n",
              "      <td>1007955</td>\n",
              "    </tr>\n",
              "    <tr>\n",
              "      <th>45</th>\n",
              "      <td>2023-11-12</td>\n",
              "      <td>1004881</td>\n",
              "    </tr>\n",
              "    <tr>\n",
              "      <th>46</th>\n",
              "      <td>2023-11-19</td>\n",
              "      <td>1007820</td>\n",
              "    </tr>\n",
              "    <tr>\n",
              "      <th>47</th>\n",
              "      <td>2023-11-26</td>\n",
              "      <td>1006359</td>\n",
              "    </tr>\n",
              "    <tr>\n",
              "      <th>48</th>\n",
              "      <td>2023-12-03</td>\n",
              "      <td>1006468</td>\n",
              "    </tr>\n",
              "    <tr>\n",
              "      <th>49</th>\n",
              "      <td>2023-12-10</td>\n",
              "      <td>1003495</td>\n",
              "    </tr>\n",
              "    <tr>\n",
              "      <th>50</th>\n",
              "      <td>2023-12-17</td>\n",
              "      <td>1009247</td>\n",
              "    </tr>\n",
              "    <tr>\n",
              "      <th>51</th>\n",
              "      <td>2023-12-24</td>\n",
              "      <td>1002768</td>\n",
              "    </tr>\n",
              "    <tr>\n",
              "      <th>52</th>\n",
              "      <td>2023-12-31</td>\n",
              "      <td>144434</td>\n",
              "    </tr>\n",
              "  </tbody>\n",
              "</table>\n",
              "</div>"
            ],
            "text/plain": [
              "         week  total_sales\n",
              "0  2023-01-01      1005836\n",
              "1  2023-01-08      1010621\n",
              "2  2023-01-15      1007025\n",
              "3  2023-01-22      1006524\n",
              "4  2023-01-29      1004040\n",
              "5  2023-02-05      1007593\n",
              "6  2023-02-12      1002880\n",
              "7  2023-02-19      1003058\n",
              "8  2023-02-26      1003502\n",
              "9  2023-03-05      1004209\n",
              "10 2023-03-12      1004162\n",
              "11 2023-03-19      1000289\n",
              "12 2023-03-26      1009120\n",
              "13 2023-04-02      1001557\n",
              "14 2023-04-09      1006147\n",
              "15 2023-04-16      1010079\n",
              "16 2023-04-23      1005041\n",
              "17 2023-04-30      1006583\n",
              "18 2023-05-07      1009405\n",
              "19 2023-05-14      1002899\n",
              "20 2023-05-21      1005351\n",
              "21 2023-05-28      1011066\n",
              "22 2023-06-04      1004794\n",
              "23 2023-06-11      1008503\n",
              "24 2023-06-18       999861\n",
              "25 2023-06-25      1003492\n",
              "26 2023-07-02      1000985\n",
              "27 2023-07-09      1007510\n",
              "28 2023-07-16      1002336\n",
              "29 2023-07-23      1000584\n",
              "30 2023-07-30      1008657\n",
              "31 2023-08-06      1006542\n",
              "32 2023-08-13      1009026\n",
              "33 2023-08-20      1000991\n",
              "34 2023-08-27      1004019\n",
              "35 2023-09-03      1003307\n",
              "36 2023-09-10      1005057\n",
              "37 2023-09-17      1009257\n",
              "38 2023-09-24      1002024\n",
              "39 2023-10-01      1010483\n",
              "40 2023-10-08      1009339\n",
              "41 2023-10-15      1003574\n",
              "42 2023-10-22      1004346\n",
              "43 2023-10-29      1006398\n",
              "44 2023-11-05      1007955\n",
              "45 2023-11-12      1004881\n",
              "46 2023-11-19      1007820\n",
              "47 2023-11-26      1006359\n",
              "48 2023-12-03      1006468\n",
              "49 2023-12-10      1003495\n",
              "50 2023-12-17      1009247\n",
              "51 2023-12-24      1002768\n",
              "52 2023-12-31       144434"
            ]
          },
          "execution_count": 18,
          "metadata": {},
          "output_type": "execute_result"
        }
      ],
      "source": [
        "weekly_sales"
      ]
    },
    {
      "cell_type": "code",
      "execution_count": 19,
      "id": "fefb2c8f",
      "metadata": {},
      "outputs": [
        {
          "data": {
            "application/vnd.microsoft.datawrangler.viewer.v0+json": {
              "columns": [
                {
                  "name": "index",
                  "rawType": "int64",
                  "type": "integer"
                },
                {
                  "name": "week",
                  "rawType": "datetime64[ns]",
                  "type": "datetime"
                },
                {
                  "name": "channel",
                  "rawType": "object",
                  "type": "string"
                },
                {
                  "name": "spend",
                  "rawType": "float64",
                  "type": "float"
                }
              ],
              "conversionMethod": "pd.DataFrame",
              "ref": "2c889a84-7b82-4b22-ae37-3614bb7019b3",
              "rows": [
                [
                  "0",
                  "2023-01-01 00:00:00",
                  "TV",
                  "11311.42"
                ],
                [
                  "1",
                  "2023-01-01 00:00:00",
                  "Radio",
                  "6723.33"
                ],
                [
                  "2",
                  "2023-01-01 00:00:00",
                  "Print",
                  "6214.43"
                ],
                [
                  "3",
                  "2023-01-01 00:00:00",
                  "OOH",
                  "11230.47"
                ],
                [
                  "4",
                  "2023-01-08 00:00:00",
                  "TV",
                  "14004.01"
                ],
                [
                  "5",
                  "2023-01-08 00:00:00",
                  "Radio",
                  "9505.5"
                ],
                [
                  "6",
                  "2023-01-08 00:00:00",
                  "Print",
                  "11069.6"
                ],
                [
                  "7",
                  "2023-01-08 00:00:00",
                  "OOH",
                  "11380.75"
                ],
                [
                  "8",
                  "2023-01-15 00:00:00",
                  "TV",
                  "14442.24"
                ],
                [
                  "9",
                  "2023-01-15 00:00:00",
                  "Radio",
                  "7836.04"
                ],
                [
                  "10",
                  "2023-01-15 00:00:00",
                  "Print",
                  "8861.17"
                ],
                [
                  "11",
                  "2023-01-15 00:00:00",
                  "OOH",
                  "10270.3"
                ],
                [
                  "12",
                  "2023-01-22 00:00:00",
                  "TV",
                  "11917.89"
                ],
                [
                  "13",
                  "2023-01-22 00:00:00",
                  "Radio",
                  "6663.51"
                ],
                [
                  "14",
                  "2023-01-22 00:00:00",
                  "Print",
                  "11601.91"
                ],
                [
                  "15",
                  "2023-01-22 00:00:00",
                  "OOH",
                  "8335.56"
                ],
                [
                  "16",
                  "2023-01-29 00:00:00",
                  "TV",
                  "6753.84"
                ],
                [
                  "17",
                  "2023-01-29 00:00:00",
                  "Radio",
                  "12158.0"
                ],
                [
                  "18",
                  "2023-01-29 00:00:00",
                  "Print",
                  "7488.18"
                ],
                [
                  "19",
                  "2023-01-29 00:00:00",
                  "OOH",
                  "9575.21"
                ],
                [
                  "20",
                  "2023-02-05 00:00:00",
                  "TV",
                  "8881.09"
                ],
                [
                  "21",
                  "2023-02-05 00:00:00",
                  "Radio",
                  "8960.04"
                ],
                [
                  "22",
                  "2023-02-05 00:00:00",
                  "Print",
                  "4697.08"
                ],
                [
                  "23",
                  "2023-02-05 00:00:00",
                  "OOH",
                  "12255.92"
                ],
                [
                  "24",
                  "2023-02-12 00:00:00",
                  "TV",
                  "11767.96"
                ],
                [
                  "25",
                  "2023-02-12 00:00:00",
                  "Radio",
                  "8863.17"
                ],
                [
                  "26",
                  "2023-02-12 00:00:00",
                  "Print",
                  "3987.37"
                ],
                [
                  "27",
                  "2023-02-12 00:00:00",
                  "OOH",
                  "6348.65"
                ],
                [
                  "28",
                  "2023-02-19 00:00:00",
                  "TV",
                  "6648.19"
                ],
                [
                  "29",
                  "2023-02-19 00:00:00",
                  "Radio",
                  "13535.8"
                ],
                [
                  "30",
                  "2023-02-19 00:00:00",
                  "Print",
                  "9648.21"
                ],
                [
                  "31",
                  "2023-02-19 00:00:00",
                  "OOH",
                  "9698.83"
                ],
                [
                  "32",
                  "2023-02-26 00:00:00",
                  "TV",
                  "13035.47"
                ],
                [
                  "33",
                  "2023-02-26 00:00:00",
                  "Radio",
                  "7152.14"
                ],
                [
                  "34",
                  "2023-02-26 00:00:00",
                  "Print",
                  "12065.73"
                ],
                [
                  "35",
                  "2023-02-26 00:00:00",
                  "OOH",
                  "3847.06"
                ],
                [
                  "36",
                  "2023-03-05 00:00:00",
                  "TV",
                  "12165.05"
                ],
                [
                  "37",
                  "2023-03-05 00:00:00",
                  "Radio",
                  "14007.0"
                ],
                [
                  "38",
                  "2023-03-05 00:00:00",
                  "Print",
                  "12388.97"
                ],
                [
                  "39",
                  "2023-03-05 00:00:00",
                  "OOH",
                  "10679.14"
                ],
                [
                  "40",
                  "2023-03-12 00:00:00",
                  "TV",
                  "11716.9"
                ],
                [
                  "41",
                  "2023-03-12 00:00:00",
                  "Radio",
                  "6044.36"
                ],
                [
                  "42",
                  "2023-03-12 00:00:00",
                  "Print",
                  "12249.1"
                ],
                [
                  "43",
                  "2023-03-12 00:00:00",
                  "OOH",
                  "11453.22"
                ],
                [
                  "44",
                  "2023-03-19 00:00:00",
                  "TV",
                  "11535.83"
                ],
                [
                  "45",
                  "2023-03-19 00:00:00",
                  "Radio",
                  "11297.06"
                ],
                [
                  "46",
                  "2023-03-19 00:00:00",
                  "Print",
                  "9819.77"
                ],
                [
                  "47",
                  "2023-03-19 00:00:00",
                  "OOH",
                  "7568.84"
                ],
                [
                  "48",
                  "2023-03-26 00:00:00",
                  "TV",
                  "11244.39"
                ],
                [
                  "49",
                  "2023-03-26 00:00:00",
                  "Radio",
                  "10206.34"
                ]
              ],
              "shape": {
                "columns": 3,
                "rows": 212
              }
            },
            "text/html": [
              "<div>\n",
              "<style scoped>\n",
              "    .dataframe tbody tr th:only-of-type {\n",
              "        vertical-align: middle;\n",
              "    }\n",
              "\n",
              "    .dataframe tbody tr th {\n",
              "        vertical-align: top;\n",
              "    }\n",
              "\n",
              "    .dataframe thead th {\n",
              "        text-align: right;\n",
              "    }\n",
              "</style>\n",
              "<table border=\"1\" class=\"dataframe\">\n",
              "  <thead>\n",
              "    <tr style=\"text-align: right;\">\n",
              "      <th></th>\n",
              "      <th>week</th>\n",
              "      <th>channel</th>\n",
              "      <th>spend</th>\n",
              "    </tr>\n",
              "  </thead>\n",
              "  <tbody>\n",
              "    <tr>\n",
              "      <th>0</th>\n",
              "      <td>2023-01-01</td>\n",
              "      <td>TV</td>\n",
              "      <td>11311.42</td>\n",
              "    </tr>\n",
              "    <tr>\n",
              "      <th>1</th>\n",
              "      <td>2023-01-01</td>\n",
              "      <td>Radio</td>\n",
              "      <td>6723.33</td>\n",
              "    </tr>\n",
              "    <tr>\n",
              "      <th>2</th>\n",
              "      <td>2023-01-01</td>\n",
              "      <td>Print</td>\n",
              "      <td>6214.43</td>\n",
              "    </tr>\n",
              "    <tr>\n",
              "      <th>3</th>\n",
              "      <td>2023-01-01</td>\n",
              "      <td>OOH</td>\n",
              "      <td>11230.47</td>\n",
              "    </tr>\n",
              "    <tr>\n",
              "      <th>4</th>\n",
              "      <td>2023-01-08</td>\n",
              "      <td>TV</td>\n",
              "      <td>14004.01</td>\n",
              "    </tr>\n",
              "    <tr>\n",
              "      <th>...</th>\n",
              "      <td>...</td>\n",
              "      <td>...</td>\n",
              "      <td>...</td>\n",
              "    </tr>\n",
              "    <tr>\n",
              "      <th>207</th>\n",
              "      <td>2023-12-24</td>\n",
              "      <td>OOH</td>\n",
              "      <td>14623.57</td>\n",
              "    </tr>\n",
              "    <tr>\n",
              "      <th>208</th>\n",
              "      <td>2023-12-31</td>\n",
              "      <td>TV</td>\n",
              "      <td>12565.47</td>\n",
              "    </tr>\n",
              "    <tr>\n",
              "      <th>209</th>\n",
              "      <td>2023-12-31</td>\n",
              "      <td>Radio</td>\n",
              "      <td>11167.25</td>\n",
              "    </tr>\n",
              "    <tr>\n",
              "      <th>210</th>\n",
              "      <td>2023-12-31</td>\n",
              "      <td>Print</td>\n",
              "      <td>9546.23</td>\n",
              "    </tr>\n",
              "    <tr>\n",
              "      <th>211</th>\n",
              "      <td>2023-12-31</td>\n",
              "      <td>OOH</td>\n",
              "      <td>9881.73</td>\n",
              "    </tr>\n",
              "  </tbody>\n",
              "</table>\n",
              "<p>212 rows × 3 columns</p>\n",
              "</div>"
            ],
            "text/plain": [
              "          week channel     spend\n",
              "0   2023-01-01      TV  11311.42\n",
              "1   2023-01-01   Radio   6723.33\n",
              "2   2023-01-01   Print   6214.43\n",
              "3   2023-01-01     OOH  11230.47\n",
              "4   2023-01-08      TV  14004.01\n",
              "..         ...     ...       ...\n",
              "207 2023-12-24     OOH  14623.57\n",
              "208 2023-12-31      TV  12565.47\n",
              "209 2023-12-31   Radio  11167.25\n",
              "210 2023-12-31   Print   9546.23\n",
              "211 2023-12-31     OOH   9881.73\n",
              "\n",
              "[212 rows x 3 columns]"
            ]
          },
          "execution_count": 19,
          "metadata": {},
          "output_type": "execute_result"
        }
      ],
      "source": [
        "offline_marketing"
      ]
    },
    {
      "cell_type": "code",
      "execution_count": 20,
      "id": "9M9DS6wWBSWQ",
      "metadata": {
        "id": "9M9DS6wWBSWQ"
      },
      "outputs": [],
      "source": [
        "# Merge weekly media spend with weekly sales\n",
        "media_sales = pd.merge(offline_marketing, weekly_sales, on='week', how='left')"
      ]
    },
    {
      "cell_type": "code",
      "execution_count": 21,
      "id": "ba2f5653",
      "metadata": {},
      "outputs": [
        {
          "data": {
            "application/vnd.microsoft.datawrangler.viewer.v0+json": {
              "columns": [
                {
                  "name": "index",
                  "rawType": "int64",
                  "type": "integer"
                },
                {
                  "name": "week",
                  "rawType": "datetime64[ns]",
                  "type": "datetime"
                },
                {
                  "name": "channel",
                  "rawType": "object",
                  "type": "string"
                },
                {
                  "name": "spend",
                  "rawType": "float64",
                  "type": "float"
                },
                {
                  "name": "total_sales",
                  "rawType": "int64",
                  "type": "integer"
                }
              ],
              "conversionMethod": "pd.DataFrame",
              "ref": "14b12199-c25b-4e05-a4bc-66ef22b9895a",
              "rows": [
                [
                  "0",
                  "2023-01-01 00:00:00",
                  "TV",
                  "11311.42",
                  "1005836"
                ],
                [
                  "1",
                  "2023-01-01 00:00:00",
                  "Radio",
                  "6723.33",
                  "1005836"
                ],
                [
                  "2",
                  "2023-01-01 00:00:00",
                  "Print",
                  "6214.43",
                  "1005836"
                ],
                [
                  "3",
                  "2023-01-01 00:00:00",
                  "OOH",
                  "11230.47",
                  "1005836"
                ],
                [
                  "4",
                  "2023-01-08 00:00:00",
                  "TV",
                  "14004.01",
                  "1010621"
                ],
                [
                  "5",
                  "2023-01-08 00:00:00",
                  "Radio",
                  "9505.5",
                  "1010621"
                ],
                [
                  "6",
                  "2023-01-08 00:00:00",
                  "Print",
                  "11069.6",
                  "1010621"
                ],
                [
                  "7",
                  "2023-01-08 00:00:00",
                  "OOH",
                  "11380.75",
                  "1010621"
                ],
                [
                  "8",
                  "2023-01-15 00:00:00",
                  "TV",
                  "14442.24",
                  "1007025"
                ],
                [
                  "9",
                  "2023-01-15 00:00:00",
                  "Radio",
                  "7836.04",
                  "1007025"
                ],
                [
                  "10",
                  "2023-01-15 00:00:00",
                  "Print",
                  "8861.17",
                  "1007025"
                ],
                [
                  "11",
                  "2023-01-15 00:00:00",
                  "OOH",
                  "10270.3",
                  "1007025"
                ],
                [
                  "12",
                  "2023-01-22 00:00:00",
                  "TV",
                  "11917.89",
                  "1006524"
                ],
                [
                  "13",
                  "2023-01-22 00:00:00",
                  "Radio",
                  "6663.51",
                  "1006524"
                ],
                [
                  "14",
                  "2023-01-22 00:00:00",
                  "Print",
                  "11601.91",
                  "1006524"
                ],
                [
                  "15",
                  "2023-01-22 00:00:00",
                  "OOH",
                  "8335.56",
                  "1006524"
                ],
                [
                  "16",
                  "2023-01-29 00:00:00",
                  "TV",
                  "6753.84",
                  "1004040"
                ],
                [
                  "17",
                  "2023-01-29 00:00:00",
                  "Radio",
                  "12158.0",
                  "1004040"
                ],
                [
                  "18",
                  "2023-01-29 00:00:00",
                  "Print",
                  "7488.18",
                  "1004040"
                ],
                [
                  "19",
                  "2023-01-29 00:00:00",
                  "OOH",
                  "9575.21",
                  "1004040"
                ],
                [
                  "20",
                  "2023-02-05 00:00:00",
                  "TV",
                  "8881.09",
                  "1007593"
                ],
                [
                  "21",
                  "2023-02-05 00:00:00",
                  "Radio",
                  "8960.04",
                  "1007593"
                ],
                [
                  "22",
                  "2023-02-05 00:00:00",
                  "Print",
                  "4697.08",
                  "1007593"
                ],
                [
                  "23",
                  "2023-02-05 00:00:00",
                  "OOH",
                  "12255.92",
                  "1007593"
                ],
                [
                  "24",
                  "2023-02-12 00:00:00",
                  "TV",
                  "11767.96",
                  "1002880"
                ],
                [
                  "25",
                  "2023-02-12 00:00:00",
                  "Radio",
                  "8863.17",
                  "1002880"
                ],
                [
                  "26",
                  "2023-02-12 00:00:00",
                  "Print",
                  "3987.37",
                  "1002880"
                ],
                [
                  "27",
                  "2023-02-12 00:00:00",
                  "OOH",
                  "6348.65",
                  "1002880"
                ],
                [
                  "28",
                  "2023-02-19 00:00:00",
                  "TV",
                  "6648.19",
                  "1003058"
                ],
                [
                  "29",
                  "2023-02-19 00:00:00",
                  "Radio",
                  "13535.8",
                  "1003058"
                ],
                [
                  "30",
                  "2023-02-19 00:00:00",
                  "Print",
                  "9648.21",
                  "1003058"
                ],
                [
                  "31",
                  "2023-02-19 00:00:00",
                  "OOH",
                  "9698.83",
                  "1003058"
                ],
                [
                  "32",
                  "2023-02-26 00:00:00",
                  "TV",
                  "13035.47",
                  "1003502"
                ],
                [
                  "33",
                  "2023-02-26 00:00:00",
                  "Radio",
                  "7152.14",
                  "1003502"
                ],
                [
                  "34",
                  "2023-02-26 00:00:00",
                  "Print",
                  "12065.73",
                  "1003502"
                ],
                [
                  "35",
                  "2023-02-26 00:00:00",
                  "OOH",
                  "3847.06",
                  "1003502"
                ],
                [
                  "36",
                  "2023-03-05 00:00:00",
                  "TV",
                  "12165.05",
                  "1004209"
                ],
                [
                  "37",
                  "2023-03-05 00:00:00",
                  "Radio",
                  "14007.0",
                  "1004209"
                ],
                [
                  "38",
                  "2023-03-05 00:00:00",
                  "Print",
                  "12388.97",
                  "1004209"
                ],
                [
                  "39",
                  "2023-03-05 00:00:00",
                  "OOH",
                  "10679.14",
                  "1004209"
                ],
                [
                  "40",
                  "2023-03-12 00:00:00",
                  "TV",
                  "11716.9",
                  "1004162"
                ],
                [
                  "41",
                  "2023-03-12 00:00:00",
                  "Radio",
                  "6044.36",
                  "1004162"
                ],
                [
                  "42",
                  "2023-03-12 00:00:00",
                  "Print",
                  "12249.1",
                  "1004162"
                ],
                [
                  "43",
                  "2023-03-12 00:00:00",
                  "OOH",
                  "11453.22",
                  "1004162"
                ],
                [
                  "44",
                  "2023-03-19 00:00:00",
                  "TV",
                  "11535.83",
                  "1000289"
                ],
                [
                  "45",
                  "2023-03-19 00:00:00",
                  "Radio",
                  "11297.06",
                  "1000289"
                ],
                [
                  "46",
                  "2023-03-19 00:00:00",
                  "Print",
                  "9819.77",
                  "1000289"
                ],
                [
                  "47",
                  "2023-03-19 00:00:00",
                  "OOH",
                  "7568.84",
                  "1000289"
                ],
                [
                  "48",
                  "2023-03-26 00:00:00",
                  "TV",
                  "11244.39",
                  "1009120"
                ],
                [
                  "49",
                  "2023-03-26 00:00:00",
                  "Radio",
                  "10206.34",
                  "1009120"
                ]
              ],
              "shape": {
                "columns": 4,
                "rows": 212
              }
            },
            "text/html": [
              "<div>\n",
              "<style scoped>\n",
              "    .dataframe tbody tr th:only-of-type {\n",
              "        vertical-align: middle;\n",
              "    }\n",
              "\n",
              "    .dataframe tbody tr th {\n",
              "        vertical-align: top;\n",
              "    }\n",
              "\n",
              "    .dataframe thead th {\n",
              "        text-align: right;\n",
              "    }\n",
              "</style>\n",
              "<table border=\"1\" class=\"dataframe\">\n",
              "  <thead>\n",
              "    <tr style=\"text-align: right;\">\n",
              "      <th></th>\n",
              "      <th>week</th>\n",
              "      <th>channel</th>\n",
              "      <th>spend</th>\n",
              "      <th>total_sales</th>\n",
              "    </tr>\n",
              "  </thead>\n",
              "  <tbody>\n",
              "    <tr>\n",
              "      <th>0</th>\n",
              "      <td>2023-01-01</td>\n",
              "      <td>TV</td>\n",
              "      <td>11311.42</td>\n",
              "      <td>1005836</td>\n",
              "    </tr>\n",
              "    <tr>\n",
              "      <th>1</th>\n",
              "      <td>2023-01-01</td>\n",
              "      <td>Radio</td>\n",
              "      <td>6723.33</td>\n",
              "      <td>1005836</td>\n",
              "    </tr>\n",
              "    <tr>\n",
              "      <th>2</th>\n",
              "      <td>2023-01-01</td>\n",
              "      <td>Print</td>\n",
              "      <td>6214.43</td>\n",
              "      <td>1005836</td>\n",
              "    </tr>\n",
              "    <tr>\n",
              "      <th>3</th>\n",
              "      <td>2023-01-01</td>\n",
              "      <td>OOH</td>\n",
              "      <td>11230.47</td>\n",
              "      <td>1005836</td>\n",
              "    </tr>\n",
              "    <tr>\n",
              "      <th>4</th>\n",
              "      <td>2023-01-08</td>\n",
              "      <td>TV</td>\n",
              "      <td>14004.01</td>\n",
              "      <td>1010621</td>\n",
              "    </tr>\n",
              "    <tr>\n",
              "      <th>...</th>\n",
              "      <td>...</td>\n",
              "      <td>...</td>\n",
              "      <td>...</td>\n",
              "      <td>...</td>\n",
              "    </tr>\n",
              "    <tr>\n",
              "      <th>207</th>\n",
              "      <td>2023-12-24</td>\n",
              "      <td>OOH</td>\n",
              "      <td>14623.57</td>\n",
              "      <td>1002768</td>\n",
              "    </tr>\n",
              "    <tr>\n",
              "      <th>208</th>\n",
              "      <td>2023-12-31</td>\n",
              "      <td>TV</td>\n",
              "      <td>12565.47</td>\n",
              "      <td>144434</td>\n",
              "    </tr>\n",
              "    <tr>\n",
              "      <th>209</th>\n",
              "      <td>2023-12-31</td>\n",
              "      <td>Radio</td>\n",
              "      <td>11167.25</td>\n",
              "      <td>144434</td>\n",
              "    </tr>\n",
              "    <tr>\n",
              "      <th>210</th>\n",
              "      <td>2023-12-31</td>\n",
              "      <td>Print</td>\n",
              "      <td>9546.23</td>\n",
              "      <td>144434</td>\n",
              "    </tr>\n",
              "    <tr>\n",
              "      <th>211</th>\n",
              "      <td>2023-12-31</td>\n",
              "      <td>OOH</td>\n",
              "      <td>9881.73</td>\n",
              "      <td>144434</td>\n",
              "    </tr>\n",
              "  </tbody>\n",
              "</table>\n",
              "<p>212 rows × 4 columns</p>\n",
              "</div>"
            ],
            "text/plain": [
              "          week channel     spend  total_sales\n",
              "0   2023-01-01      TV  11311.42      1005836\n",
              "1   2023-01-01   Radio   6723.33      1005836\n",
              "2   2023-01-01   Print   6214.43      1005836\n",
              "3   2023-01-01     OOH  11230.47      1005836\n",
              "4   2023-01-08      TV  14004.01      1010621\n",
              "..         ...     ...       ...          ...\n",
              "207 2023-12-24     OOH  14623.57      1002768\n",
              "208 2023-12-31      TV  12565.47       144434\n",
              "209 2023-12-31   Radio  11167.25       144434\n",
              "210 2023-12-31   Print   9546.23       144434\n",
              "211 2023-12-31     OOH   9881.73       144434\n",
              "\n",
              "[212 rows x 4 columns]"
            ]
          },
          "execution_count": 21,
          "metadata": {},
          "output_type": "execute_result"
        }
      ],
      "source": [
        "media_sales"
      ]
    },
    {
      "cell_type": "code",
      "execution_count": 23,
      "id": "d662b22b",
      "metadata": {},
      "outputs": [
        {
          "name": "stdout",
          "output_type": "stream",
          "text": [
            "         week channel     spend  total_sales\n",
            "0  2023-01-01      TV  11311.42      1005836\n",
            "1  2023-01-01   Radio   6723.33      1005836\n",
            "2  2023-01-01   Print   6214.43      1005836\n",
            "3  2023-01-01     OOH  11230.47      1005836\n",
            "4  2023-01-08      TV  14004.01      1010621\n",
            "5  2023-01-08   Radio   9505.50      1010621\n",
            "6  2023-01-08   Print  11069.60      1010621\n",
            "7  2023-01-08     OOH  11380.75      1010621\n",
            "8  2023-01-15      TV  14442.24      1007025\n",
            "9  2023-01-15   Radio   7836.04      1007025\n",
            "10 2023-01-15   Print   8861.17      1007025\n",
            "11 2023-01-15     OOH  10270.30      1007025\n",
            "12 2023-01-22      TV  11917.89      1006524\n",
            "13 2023-01-22   Radio   6663.51      1006524\n",
            "14 2023-01-22   Print  11601.91      1006524\n",
            "15 2023-01-22     OOH   8335.56      1006524\n",
            "16 2023-01-29      TV   6753.84      1004040\n",
            "17 2023-01-29   Radio  12158.00      1004040\n",
            "18 2023-01-29   Print   7488.18      1004040\n",
            "19 2023-01-29     OOH   9575.21      1004040\n",
            "20 2023-02-05      TV   8881.09      1007593\n",
            "21 2023-02-05   Radio   8960.04      1007593\n",
            "22 2023-02-05   Print   4697.08      1007593\n",
            "23 2023-02-05     OOH  12255.92      1007593\n",
            "24 2023-02-12      TV  11767.96      1002880\n"
          ]
        }
      ],
      "source": [
        "print(media_sales.head(25))"
      ]
    },
    {
      "cell_type": "markdown",
      "id": "o7WR1ttICWAS",
      "metadata": {
        "id": "o7WR1ttICWAS"
      },
      "source": [
        "## Task 1: Flawed Adstock Transformation"
      ]
    },
    {
      "cell_type": "code",
      "execution_count": 24,
      "id": "VZckFpaaBgpy",
      "metadata": {
        "id": "VZckFpaaBgpy"
      },
      "outputs": [
        {
          "data": {
            "image/png": "[encoded data removed]",
            "text/plain": [
              "<Figure size 1000x600 with 1 Axes>"
            ]
          },
          "metadata": {},
          "output_type": "display_data"
        }
      ],
      "source": [
        "def plot_adstock_corrected(decay=0.5):\n",
        "    # Filter the media data to get only TV spend\n",
        "    media_df = offline_marketing[offline_marketing['channel'] == 'TV'][['week', 'spend']].copy()\n",
        "\n",
        "    # Rename 'spend' column to 'TV' for consistency\n",
        "    media_df['TV'] = media_df['spend']\n",
        "\n",
        "    adstock_vals = []\n",
        "    for i, spend in enumerate(media_df[\"TV\"]):\n",
        "        if i == 0:\n",
        "            # initial adstock equals the first spend\n",
        "            adstock_vals.append(spend)\n",
        "        else:\n",
        "            # current adstock = current spend + decay * previous adstock\n",
        "            adstock_vals.append(spend + decay * adstock_vals[i-1])\n",
        "    \n",
        "    media_df['TV_adstock'] = adstock_vals\n",
        "    \n",
        "    # 3) Plot\n",
        "    plt.figure(figsize=(10, 6))\n",
        "    plt.plot(media_df['week'], media_df[\"TV\"], label=f'Original TV Spend')\n",
        "    plt.plot(media_df['week'], media_df['TV_adstock'],\n",
        "             label=f'Adstocked \"TV\" (λ={decay})', linestyle='--')\n",
        "    plt.title('TV Spend vs. Adstocked Spend (Decay={decay})')\n",
        "    plt.xlabel('Week')\n",
        "    plt.ylabel('Spend')\n",
        "    plt.legend()\n",
        "    plt.tight_layout()\n",
        "    plt.show()\n",
        "\n",
        "\n",
        "plot_adstock_corrected()\n",
        "\n",
        "\n"
      ]
    },
    {
      "cell_type": "code",
      "execution_count": 25,
      "id": "c8a05d0d",
      "metadata": {},
      "outputs": [
        {
          "data": {
            "image/png": "[encoded data removed]",
            "text/plain": [
              "<Figure size 1000x600 with 1 Axes>"
            ]
          },
          "metadata": {},
          "output_type": "display_data"
        }
      ],
      "source": [
        "plot_adstock_corrected(decay=0.2)"
      ]
    },
    {
      "cell_type": "code",
      "execution_count": 26,
      "id": "95f06e8a",
      "metadata": {},
      "outputs": [
        {
          "data": {
            "image/png": "[encoded data removed]",
            "text/plain": [
              "<Figure size 1000x600 with 1 Axes>"
            ]
          },
          "metadata": {},
          "output_type": "display_data"
        }
      ],
      "source": [
        "plot_adstock_corrected(decay=0.8)"
      ]
    },
    {
      "cell_type": "markdown",
      "id": "QOt52FhmCfY3",
      "metadata": {
        "id": "QOt52FhmCfY3"
      },
      "source": [
        "## Task 2: Misleading Diminishing Returns Visualization (No Saturation Effect)"
      ]
    },
    {
      "cell_type": "code",
      "execution_count": 31,
      "id": "93d613ef",
      "metadata": {},
      "outputs": [
        {
          "name": "stdout",
          "output_type": "stream",
          "text": [
            "         week channel     spend\n",
            "0  2023-01-01      TV  11311.42\n",
            "1  2023-01-01   Radio   6723.33\n",
            "2  2023-01-01   Print   6214.43\n",
            "3  2023-01-01     OOH  11230.47\n",
            "4  2023-01-08      TV  14004.01\n",
            "5  2023-01-08   Radio   9505.50\n",
            "6  2023-01-08   Print  11069.60\n",
            "7  2023-01-08     OOH  11380.75\n",
            "8  2023-01-15      TV  14442.24\n",
            "9  2023-01-15   Radio   7836.04\n",
            "10 2023-01-15   Print   8861.17\n",
            "11 2023-01-15     OOH  10270.30\n",
            "12 2023-01-22      TV  11917.89\n",
            "13 2023-01-22   Radio   6663.51\n",
            "14 2023-01-22   Print  11601.91\n",
            "15 2023-01-22     OOH   8335.56\n",
            "16 2023-01-29      TV   6753.84\n",
            "17 2023-01-29   Radio  12158.00\n",
            "18 2023-01-29   Print   7488.18\n",
            "19 2023-01-29     OOH   9575.21\n",
            "20 2023-02-05      TV   8881.09\n",
            "21 2023-02-05   Radio   8960.04\n",
            "22 2023-02-05   Print   4697.08\n",
            "23 2023-02-05     OOH  12255.92\n",
            "24 2023-02-12      TV  11767.96\n"
          ]
        }
      ],
      "source": [
        "print(offline_marketing.head(25))"
      ]
    },
    {
      "cell_type": "code",
      "execution_count": 32,
      "id": "782de503",
      "metadata": {},
      "outputs": [
        {
          "data": {
            "application/vnd.microsoft.datawrangler.viewer.v0+json": {
              "columns": [
                {
                  "name": "index",
                  "rawType": "int64",
                  "type": "integer"
                },
                {
                  "name": "week",
                  "rawType": "datetime64[ns]",
                  "type": "datetime"
                },
                {
                  "name": "total_sales",
                  "rawType": "int64",
                  "type": "integer"
                }
              ],
              "conversionMethod": "pd.DataFrame",
              "ref": "1c99ce62-4350-43e7-bcf3-b12d30711b1e",
              "rows": [
                [
                  "0",
                  "2023-01-01 00:00:00",
                  "1005836"
                ],
                [
                  "1",
                  "2023-01-08 00:00:00",
                  "1010621"
                ],
                [
                  "2",
                  "2023-01-15 00:00:00",
                  "1007025"
                ],
                [
                  "3",
                  "2023-01-22 00:00:00",
                  "1006524"
                ],
                [
                  "4",
                  "2023-01-29 00:00:00",
                  "1004040"
                ],
                [
                  "5",
                  "2023-02-05 00:00:00",
                  "1007593"
                ],
                [
                  "6",
                  "2023-02-12 00:00:00",
                  "1002880"
                ],
                [
                  "7",
                  "2023-02-19 00:00:00",
                  "1003058"
                ],
                [
                  "8",
                  "2023-02-26 00:00:00",
                  "1003502"
                ],
                [
                  "9",
                  "2023-03-05 00:00:00",
                  "1004209"
                ],
                [
                  "10",
                  "2023-03-12 00:00:00",
                  "1004162"
                ],
                [
                  "11",
                  "2023-03-19 00:00:00",
                  "1000289"
                ],
                [
                  "12",
                  "2023-03-26 00:00:00",
                  "1009120"
                ],
                [
                  "13",
                  "2023-04-02 00:00:00",
                  "1001557"
                ],
                [
                  "14",
                  "2023-04-09 00:00:00",
                  "1006147"
                ],
                [
                  "15",
                  "2023-04-16 00:00:00",
                  "1010079"
                ],
                [
                  "16",
                  "2023-04-23 00:00:00",
                  "1005041"
                ],
                [
                  "17",
                  "2023-04-30 00:00:00",
                  "1006583"
                ],
                [
                  "18",
                  "2023-05-07 00:00:00",
                  "1009405"
                ],
                [
                  "19",
                  "2023-05-14 00:00:00",
                  "1002899"
                ],
                [
                  "20",
                  "2023-05-21 00:00:00",
                  "1005351"
                ],
                [
                  "21",
                  "2023-05-28 00:00:00",
                  "1011066"
                ],
                [
                  "22",
                  "2023-06-04 00:00:00",
                  "1004794"
                ],
                [
                  "23",
                  "2023-06-11 00:00:00",
                  "1008503"
                ],
                [
                  "24",
                  "2023-06-18 00:00:00",
                  "999861"
                ],
                [
                  "25",
                  "2023-06-25 00:00:00",
                  "1003492"
                ],
                [
                  "26",
                  "2023-07-02 00:00:00",
                  "1000985"
                ],
                [
                  "27",
                  "2023-07-09 00:00:00",
                  "1007510"
                ],
                [
                  "28",
                  "2023-07-16 00:00:00",
                  "1002336"
                ],
                [
                  "29",
                  "2023-07-23 00:00:00",
                  "1000584"
                ],
                [
                  "30",
                  "2023-07-30 00:00:00",
                  "1008657"
                ],
                [
                  "31",
                  "2023-08-06 00:00:00",
                  "1006542"
                ],
                [
                  "32",
                  "2023-08-13 00:00:00",
                  "1009026"
                ],
                [
                  "33",
                  "2023-08-20 00:00:00",
                  "1000991"
                ],
                [
                  "34",
                  "2023-08-27 00:00:00",
                  "1004019"
                ],
                [
                  "35",
                  "2023-09-03 00:00:00",
                  "1003307"
                ],
                [
                  "36",
                  "2023-09-10 00:00:00",
                  "1005057"
                ],
                [
                  "37",
                  "2023-09-17 00:00:00",
                  "1009257"
                ],
                [
                  "38",
                  "2023-09-24 00:00:00",
                  "1002024"
                ],
                [
                  "39",
                  "2023-10-01 00:00:00",
                  "1010483"
                ],
                [
                  "40",
                  "2023-10-08 00:00:00",
                  "1009339"
                ],
                [
                  "41",
                  "2023-10-15 00:00:00",
                  "1003574"
                ],
                [
                  "42",
                  "2023-10-22 00:00:00",
                  "1004346"
                ],
                [
                  "43",
                  "2023-10-29 00:00:00",
                  "1006398"
                ],
                [
                  "44",
                  "2023-11-05 00:00:00",
                  "1007955"
                ],
                [
                  "45",
                  "2023-11-12 00:00:00",
                  "1004881"
                ],
                [
                  "46",
                  "2023-11-19 00:00:00",
                  "1007820"
                ],
                [
                  "47",
                  "2023-11-26 00:00:00",
                  "1006359"
                ],
                [
                  "48",
                  "2023-12-03 00:00:00",
                  "1006468"
                ],
                [
                  "49",
                  "2023-12-10 00:00:00",
                  "1003495"
                ]
              ],
              "shape": {
                "columns": 2,
                "rows": 53
              }
            },
            "text/html": [
              "<div>\n",
              "<style scoped>\n",
              "    .dataframe tbody tr th:only-of-type {\n",
              "        vertical-align: middle;\n",
              "    }\n",
              "\n",
              "    .dataframe tbody tr th {\n",
              "        vertical-align: top;\n",
              "    }\n",
              "\n",
              "    .dataframe thead th {\n",
              "        text-align: right;\n",
              "    }\n",
              "</style>\n",
              "<table border=\"1\" class=\"dataframe\">\n",
              "  <thead>\n",
              "    <tr style=\"text-align: right;\">\n",
              "      <th></th>\n",
              "      <th>week</th>\n",
              "      <th>total_sales</th>\n",
              "    </tr>\n",
              "  </thead>\n",
              "  <tbody>\n",
              "    <tr>\n",
              "      <th>0</th>\n",
              "      <td>2023-01-01</td>\n",
              "      <td>1005836</td>\n",
              "    </tr>\n",
              "    <tr>\n",
              "      <th>1</th>\n",
              "      <td>2023-01-08</td>\n",
              "      <td>1010621</td>\n",
              "    </tr>\n",
              "    <tr>\n",
              "      <th>2</th>\n",
              "      <td>2023-01-15</td>\n",
              "      <td>1007025</td>\n",
              "    </tr>\n",
              "    <tr>\n",
              "      <th>3</th>\n",
              "      <td>2023-01-22</td>\n",
              "      <td>1006524</td>\n",
              "    </tr>\n",
              "    <tr>\n",
              "      <th>4</th>\n",
              "      <td>2023-01-29</td>\n",
              "      <td>1004040</td>\n",
              "    </tr>\n",
              "    <tr>\n",
              "      <th>5</th>\n",
              "      <td>2023-02-05</td>\n",
              "      <td>1007593</td>\n",
              "    </tr>\n",
              "    <tr>\n",
              "      <th>6</th>\n",
              "      <td>2023-02-12</td>\n",
              "      <td>1002880</td>\n",
              "    </tr>\n",
              "    <tr>\n",
              "      <th>7</th>\n",
              "      <td>2023-02-19</td>\n",
              "      <td>1003058</td>\n",
              "    </tr>\n",
              "    <tr>\n",
              "      <th>8</th>\n",
              "      <td>2023-02-26</td>\n",
              "      <td>1003502</td>\n",
              "    </tr>\n",
              "    <tr>\n",
              "      <th>9</th>\n",
              "      <td>2023-03-05</td>\n",
              "      <td>1004209</td>\n",
              "    </tr>\n",
              "    <tr>\n",
              "      <th>10</th>\n",
              "      <td>2023-03-12</td>\n",
              "      <td>1004162</td>\n",
              "    </tr>\n",
              "    <tr>\n",
              "      <th>11</th>\n",
              "      <td>2023-03-19</td>\n",
              "      <td>1000289</td>\n",
              "    </tr>\n",
              "    <tr>\n",
              "      <th>12</th>\n",
              "      <td>2023-03-26</td>\n",
              "      <td>1009120</td>\n",
              "    </tr>\n",
              "    <tr>\n",
              "      <th>13</th>\n",
              "      <td>2023-04-02</td>\n",
              "      <td>1001557</td>\n",
              "    </tr>\n",
              "    <tr>\n",
              "      <th>14</th>\n",
              "      <td>2023-04-09</td>\n",
              "      <td>1006147</td>\n",
              "    </tr>\n",
              "    <tr>\n",
              "      <th>15</th>\n",
              "      <td>2023-04-16</td>\n",
              "      <td>1010079</td>\n",
              "    </tr>\n",
              "    <tr>\n",
              "      <th>16</th>\n",
              "      <td>2023-04-23</td>\n",
              "      <td>1005041</td>\n",
              "    </tr>\n",
              "    <tr>\n",
              "      <th>17</th>\n",
              "      <td>2023-04-30</td>\n",
              "      <td>1006583</td>\n",
              "    </tr>\n",
              "    <tr>\n",
              "      <th>18</th>\n",
              "      <td>2023-05-07</td>\n",
              "      <td>1009405</td>\n",
              "    </tr>\n",
              "    <tr>\n",
              "      <th>19</th>\n",
              "      <td>2023-05-14</td>\n",
              "      <td>1002899</td>\n",
              "    </tr>\n",
              "    <tr>\n",
              "      <th>20</th>\n",
              "      <td>2023-05-21</td>\n",
              "      <td>1005351</td>\n",
              "    </tr>\n",
              "    <tr>\n",
              "      <th>21</th>\n",
              "      <td>2023-05-28</td>\n",
              "      <td>1011066</td>\n",
              "    </tr>\n",
              "    <tr>\n",
              "      <th>22</th>\n",
              "      <td>2023-06-04</td>\n",
              "      <td>1004794</td>\n",
              "    </tr>\n",
              "    <tr>\n",
              "      <th>23</th>\n",
              "      <td>2023-06-11</td>\n",
              "      <td>1008503</td>\n",
              "    </tr>\n",
              "    <tr>\n",
              "      <th>24</th>\n",
              "      <td>2023-06-18</td>\n",
              "      <td>999861</td>\n",
              "    </tr>\n",
              "    <tr>\n",
              "      <th>25</th>\n",
              "      <td>2023-06-25</td>\n",
              "      <td>1003492</td>\n",
              "    </tr>\n",
              "    <tr>\n",
              "      <th>26</th>\n",
              "      <td>2023-07-02</td>\n",
              "      <td>1000985</td>\n",
              "    </tr>\n",
              "    <tr>\n",
              "      <th>27</th>\n",
              "      <td>2023-07-09</td>\n",
              "      <td>1007510</td>\n",
              "    </tr>\n",
              "    <tr>\n",
              "      <th>28</th>\n",
              "      <td>2023-07-16</td>\n",
              "      <td>1002336</td>\n",
              "    </tr>\n",
              "    <tr>\n",
              "      <th>29</th>\n",
              "      <td>2023-07-23</td>\n",
              "      <td>1000584</td>\n",
              "    </tr>\n",
              "    <tr>\n",
              "      <th>30</th>\n",
              "      <td>2023-07-30</td>\n",
              "      <td>1008657</td>\n",
              "    </tr>\n",
              "    <tr>\n",
              "      <th>31</th>\n",
              "      <td>2023-08-06</td>\n",
              "      <td>1006542</td>\n",
              "    </tr>\n",
              "    <tr>\n",
              "      <th>32</th>\n",
              "      <td>2023-08-13</td>\n",
              "      <td>1009026</td>\n",
              "    </tr>\n",
              "    <tr>\n",
              "      <th>33</th>\n",
              "      <td>2023-08-20</td>\n",
              "      <td>1000991</td>\n",
              "    </tr>\n",
              "    <tr>\n",
              "      <th>34</th>\n",
              "      <td>2023-08-27</td>\n",
              "      <td>1004019</td>\n",
              "    </tr>\n",
              "    <tr>\n",
              "      <th>35</th>\n",
              "      <td>2023-09-03</td>\n",
              "      <td>1003307</td>\n",
              "    </tr>\n",
              "    <tr>\n",
              "      <th>36</th>\n",
              "      <td>2023-09-10</td>\n",
              "      <td>1005057</td>\n",
              "    </tr>\n",
              "    <tr>\n",
              "      <th>37</th>\n",
              "      <td>2023-09-17</td>\n",
              "      <td>1009257</td>\n",
              "    </tr>\n",
              "    <tr>\n",
              "      <th>38</th>\n",
              "      <td>2023-09-24</td>\n",
              "      <td>1002024</td>\n",
              "    </tr>\n",
              "    <tr>\n",
              "      <th>39</th>\n",
              "      <td>2023-10-01</td>\n",
              "      <td>1010483</td>\n",
              "    </tr>\n",
              "    <tr>\n",
              "      <th>40</th>\n",
              "      <td>2023-10-08</td>\n",
              "      <td>1009339</td>\n",
              "    </tr>\n",
              "    <tr>\n",
              "      <th>41</th>\n",
              "      <td>2023-10-15</td>\n",
              "      <td>1003574</td>\n",
              "    </tr>\n",
              "    <tr>\n",
              "      <th>42</th>\n",
              "      <td>2023-10-22</td>\n",
              "      <td>1004346</td>\n",
              "    </tr>\n",
              "    <tr>\n",
              "      <th>43</th>\n",
              "      <td>2023-10-29</td>\n",
              "      <td>1006398</td>\n",
              "    </tr>\n",
              "    <tr>\n",
              "      <th>44</th>\n",
              "      <td>2023-11-05</td>\n",
              "      <td>1007955</td>\n",
              "    </tr>\n",
              "    <tr>\n",
              "      <th>45</th>\n",
              "      <td>2023-11-12</td>\n",
              "      <td>1004881</td>\n",
              "    </tr>\n",
              "    <tr>\n",
              "      <th>46</th>\n",
              "      <td>2023-11-19</td>\n",
              "      <td>1007820</td>\n",
              "    </tr>\n",
              "    <tr>\n",
              "      <th>47</th>\n",
              "      <td>2023-11-26</td>\n",
              "      <td>1006359</td>\n",
              "    </tr>\n",
              "    <tr>\n",
              "      <th>48</th>\n",
              "      <td>2023-12-03</td>\n",
              "      <td>1006468</td>\n",
              "    </tr>\n",
              "    <tr>\n",
              "      <th>49</th>\n",
              "      <td>2023-12-10</td>\n",
              "      <td>1003495</td>\n",
              "    </tr>\n",
              "    <tr>\n",
              "      <th>50</th>\n",
              "      <td>2023-12-17</td>\n",
              "      <td>1009247</td>\n",
              "    </tr>\n",
              "    <tr>\n",
              "      <th>51</th>\n",
              "      <td>2023-12-24</td>\n",
              "      <td>1002768</td>\n",
              "    </tr>\n",
              "    <tr>\n",
              "      <th>52</th>\n",
              "      <td>2023-12-31</td>\n",
              "      <td>144434</td>\n",
              "    </tr>\n",
              "  </tbody>\n",
              "</table>\n",
              "</div>"
            ],
            "text/plain": [
              "         week  total_sales\n",
              "0  2023-01-01      1005836\n",
              "1  2023-01-08      1010621\n",
              "2  2023-01-15      1007025\n",
              "3  2023-01-22      1006524\n",
              "4  2023-01-29      1004040\n",
              "5  2023-02-05      1007593\n",
              "6  2023-02-12      1002880\n",
              "7  2023-02-19      1003058\n",
              "8  2023-02-26      1003502\n",
              "9  2023-03-05      1004209\n",
              "10 2023-03-12      1004162\n",
              "11 2023-03-19      1000289\n",
              "12 2023-03-26      1009120\n",
              "13 2023-04-02      1001557\n",
              "14 2023-04-09      1006147\n",
              "15 2023-04-16      1010079\n",
              "16 2023-04-23      1005041\n",
              "17 2023-04-30      1006583\n",
              "18 2023-05-07      1009405\n",
              "19 2023-05-14      1002899\n",
              "20 2023-05-21      1005351\n",
              "21 2023-05-28      1011066\n",
              "22 2023-06-04      1004794\n",
              "23 2023-06-11      1008503\n",
              "24 2023-06-18       999861\n",
              "25 2023-06-25      1003492\n",
              "26 2023-07-02      1000985\n",
              "27 2023-07-09      1007510\n",
              "28 2023-07-16      1002336\n",
              "29 2023-07-23      1000584\n",
              "30 2023-07-30      1008657\n",
              "31 2023-08-06      1006542\n",
              "32 2023-08-13      1009026\n",
              "33 2023-08-20      1000991\n",
              "34 2023-08-27      1004019\n",
              "35 2023-09-03      1003307\n",
              "36 2023-09-10      1005057\n",
              "37 2023-09-17      1009257\n",
              "38 2023-09-24      1002024\n",
              "39 2023-10-01      1010483\n",
              "40 2023-10-08      1009339\n",
              "41 2023-10-15      1003574\n",
              "42 2023-10-22      1004346\n",
              "43 2023-10-29      1006398\n",
              "44 2023-11-05      1007955\n",
              "45 2023-11-12      1004881\n",
              "46 2023-11-19      1007820\n",
              "47 2023-11-26      1006359\n",
              "48 2023-12-03      1006468\n",
              "49 2023-12-10      1003495\n",
              "50 2023-12-17      1009247\n",
              "51 2023-12-24      1002768\n",
              "52 2023-12-31       144434"
            ]
          },
          "execution_count": 32,
          "metadata": {},
          "output_type": "execute_result"
        }
      ],
      "source": [
        "weekly_sales"
      ]
    },
    {
      "cell_type": "code",
      "execution_count": 59,
      "id": "l3tk5FnUCiqX",
      "metadata": {
        "id": "l3tk5FnUCiqX"
      },
      "outputs": [
        {
          "name": "stderr",
          "output_type": "stream",
          "text": [
            "C:\\Users\\Omkar\\AppData\\Local\\Temp\\ipykernel_16680\\4204686667.py:5: RuntimeWarning: invalid value encountered in scalar power\n",
            "  return Vmax * (x ** alpha) / (x ** alpha + K ** alpha)\n"
          ]
        },
        {
          "data": {
            "image/png": "[encoded data removed]",
            "text/plain": [
              "<Figure size 1000x600 with 1 Axes>"
            ]
          },
          "metadata": {},
          "output_type": "display_data"
        }
      ],
      "source": [
        "\n",
        "from scipy.optimize import curve_fit\n",
        "\n",
        "# Define the Hill saturation function\n",
        "def hill_response(x, Vmax, K, alpha):\n",
        "    return Vmax * (x ** alpha) / (x ** alpha + K ** alpha)\n",
        "\n",
        "def plot_diminishing_returns_corrected(offline_marketing, actual_sales):\n",
        "    x_data = offline_marketing[offline_marketing['channel'] == 'TV']['spend'].values\n",
        "    y_data = actual_sales['total_sales'].values\n",
        "    \n",
        "    # Fit the Hill model\n",
        "    p0 = [max(y_data), np.median(x_data), 1.0]\n",
        "    params, cov = curve_fit(hill_response, x_data, y_data, p0=p0, maxfev=10_0000)\n",
        "\n",
        "    Vmax_fit, K_fit, alpha_fit = params\n",
        "    \n",
        "    x_range = np.linspace(x_data.min(), x_data.max(), 50)\n",
        "    y_hat = hill_response(x_range, Vmax_fit, K_fit, alpha_fit)\n",
        "    \n",
        "    plt.figure(figsize=(10, 6))\n",
        "    plt.scatter(x_data, y_data, label='Observed Response', alpha=0.9)\n",
        "    plt.plot(x_range, y_hat, 'r--', lw=2,\n",
        "            label=f'Hill Saturation Fit\\n$V_{{max}}$={Vmax_fit:.1f}, $K$={K_fit:.1f}, $\\\\alpha$={alpha_fit:.2f}')\n",
        "    plt.title('TV Spend vs. Sales Response with Saturation Curve')\n",
        "    plt.xlabel('TV Spend')\n",
        "    plt.ylabel('Sales Response')\n",
        "    plt.legend()\n",
        "    plt.tight_layout()\n",
        "    plt.show()\n",
        "    \n",
        "plot_diminishing_returns_corrected(\n",
        "    offline_marketing[offline_marketing['channel'] == 'TV'][:-1],\n",
        "    weekly_sales[:-1]\n",
        ")\n"
      ]
    },
    {
      "cell_type": "code",
      "execution_count": null,
      "id": "3b34879b",
      "metadata": {},
      "outputs": [
        {
          "data": {
            "image/png": "[encoded data removed]",
            "text/plain": [
              "<Figure size 1000x600 with 1 Axes>"
            ]
          },
          "metadata": {},
          "output_type": "display_data"
        }
      ],
      "source": [
        "\n",
        "def plot_adstock_corrected():\n",
        "  \n",
        "    tv_spend = offline_marketing[offline_marketing['channel'] == 'TV']['spend'].values\n",
        "\n",
        "    # Parameters for the saturation curve\n",
        "    # baseline response, maximum lift, and half‐saturation constant\n",
        "    baseline = 500\n",
        "    max_lift = 20000\n",
        "    k = np.median(tv_spend)  # spend at which response is half of max_lift\n",
        "\n",
        "    # Saturation curve: response = baseline + max_lift * (tv_spend / (tv_spend + k))\n",
        "    response = baseline + max_lift * (tv_spend / (tv_spend + k))\n",
        "\n",
        "    # For a smooth trend line, sort by spend\n",
        "    sort_idx = np.argsort(tv_spend)\n",
        "    tv_sorted = tv_spend[sort_idx]\n",
        "    resp_sorted = response[sort_idx]\n",
        "\n",
        "    # Plot the scatter plot\n",
        "    plt.figure(figsize=(10, 6))\n",
        "    plt.scatter(tv_spend, response, color='C0', alpha=0.7, label='Modeled Response')\n",
        "\n",
        "    # Plot the saturation curve\n",
        "    plt.plot(tv_sorted, resp_sorted, color='C1', lw=2, label='Saturation Curve')\n",
        "\n",
        "    # Add titles and labels\n",
        "    plt.title('TV Spend vs. Sales Response (Diminishing Returns)')\n",
        "    plt.xlabel('TV Spend')\n",
        "    plt.ylabel('Sales Response')\n",
        "    plt.legend()\n",
        "    plt.tight_layout()\n",
        "    plt.show()\n",
        "plot_adstock_corrected()\n"
      ]
    },
    {
      "cell_type": "markdown",
      "id": "_UuCKfrICq5I",
      "metadata": {
        "id": "_UuCKfrICq5I"
      },
      "source": [
        "## Task 3: Incorrect Assessment of Interaction Term in Sales Analysis"
      ]
    },
    {
      "cell_type": "code",
      "execution_count": null,
      "id": "HVuc1Vl5_sQp",
      "metadata": {
        "id": "HVuc1Vl5_sQp"
      },
      "outputs": [],
      "source": [
        "offline_channels = ['TV', 'Radio', 'Print', 'OOH']\n",
        "online_channels = ['Facebook', 'Instagram', 'YouTube', 'Google Ads', 'Influencer Marketing']"
      ]
    },
    {
      "cell_type": "code",
      "execution_count": null,
      "id": "QTfc1RdzDHLs",
      "metadata": {
        "id": "QTfc1RdzDHLs"
      },
      "outputs": [],
      "source": [
        "import pandas as pd\n",
        "import numpy as np\n",
        "import matplotlib.pyplot as plt\n",
        "\n",
        "def buggy_interaction_analysis():\n",
        "    \"\"\"\n",
        "    Perform Buggy Channel Interaction Analysis by summing all channel spends to create a combined spend term.\n",
        "\n",
        "    Parameters:\n",
        "    media_sales (pd.DataFrame): DataFrame containing the merged sales and marketing data.\n",
        "    offline_channels (list): List of offline marketing channels.\n",
        "    online_channels (list): List of online marketing channels.\n",
        "    \"\"\"\n",
        "    # Pivot the media_sales data to separate each channel into its own column\n",
        "    media_sales_pivoted = media_sales.pivot_table(index='week', columns='channel', values='spend', aggfunc='sum')\n",
        "\n",
        "    # Ensure that all offline and online channels are present in the DataFrame, fill missing ones with zeros\n",
        "    for channel in offline_channels + online_channels:\n",
        "        if channel not in media_sales_pivoted.columns:\n",
        "            media_sales_pivoted[channel] = 0  # Fill missing channels with zero spend\n",
        "\n",
        "    # **Buggy**: Summing all channel spends to create a combined spend (incorrect approach)\n",
        "    media_sales_pivoted['combined_spend'] = media_sales_pivoted[offline_channels + online_channels].sum(axis=1)\n",
        "\n",
        "    # **Buggy**: Interaction sales based on the combined spend (incorrect approach)\n",
        "    media_sales_pivoted['interaction_sales'] = media_sales_pivoted['combined_spend'] * 0.1  # Arbitrary multiplication without proper logic\n",
        "\n",
        "    # Merge total sales into the pivoted data\n",
        "    media_sales_pivoted = pd.merge(media_sales_pivoted, media_sales[['week', 'total_sales']], on='week', how='left')\n",
        "\n",
        "    # Plotting the actual vs misleading interaction sales (incorrect approach)\n",
        "    plt.figure(figsize=(12, 6))\n",
        "    plt.plot(media_sales_pivoted['week'], media_sales_pivoted['total_sales'], label='Actual Sales', color='b')\n",
        "    plt.plot(media_sales_pivoted['week'], media_sales_pivoted['interaction_sales'], label='Misleading Interaction Sales', color='r', linestyle='--')\n",
        "\n",
        "    plt.title('Buggy Channel Interaction Analysis')\n",
        "    plt.xlabel('Week')\n",
        "    plt.ylabel('Sales')\n",
        "    plt.legend()\n",
        "    plt.tight_layout()\n",
        "    plt.show()\n",
        "\n",
        "buggy_interaction_analysis()\n"
      ]
    },
    {
      "cell_type": "markdown",
      "id": "iLzk9sr-DVi5",
      "metadata": {
        "id": "iLzk9sr-DVi5"
      },
      "source": [
        "## Task 4: Modeling and Visualizing the Adstock Effect"
      ]
    },
    {
      "cell_type": "code",
      "execution_count": null,
      "id": "xb4FFIYSDU7G",
      "metadata": {
        "id": "xb4FFIYSDU7G"
      },
      "outputs": [],
      "source": [
        "# ----------------------------\n",
        "# BUGGY PLOT 4: Misleading adstock effect wih wrong decay rate\n",
        "# ----------------------------\n",
        "\n",
        "def plot_adstock_effect():\n",
        "    \"\"\"\n",
        "    Function to calculate and plot the adstock effect on media spend.\n",
        "\n",
        "    Parameters:\n",
        "    - sales_data: DataFrame containing the sales data with 'date' and 'sales_quantity' columns.\n",
        "    - media_data: DataFrame containing the media spend data with 'week' and 'spend' columns.\n",
        "    - decay_rate: The decay rate to apply to the lagged spend (default is 0.5).\n",
        "\n",
        "    Returns:\n",
        "    - A plot showing the original and adstocked media spend over time.\n",
        "    \"\"\"\n",
        "\n",
        "    decay_rate=0.5\n",
        "\n",
        "    # Calculate total daily sales to match with marketing data\n",
        "    daily_sales = sales.groupby('date')['sales_quantity'].sum().reset_index()\n",
        "    daily_sales.rename(columns={'sales_quantity': 'total_sales'}, inplace=True)\n",
        "\n",
        "    # Aggregate weekly sales for comparison with weekly media spend\n",
        "    weekly_sales = daily_sales.copy()\n",
        "    weekly_sales['week'] = pd.to_datetime(weekly_sales['date']).dt.to_period('W').dt.start_time\n",
        "    weekly_sales = weekly_sales.groupby('week')['total_sales'].sum().reset_index()\n",
        "\n",
        "    # Merge media spend with weekly sales\n",
        "    media_sales = pd.merge(offline_marketing, weekly_sales, on='week', how='left')\n",
        "\n",
        "    # Apply decay rate to model adstock (using the specified decay rate)\n",
        "    media_sales['TV'] = media_sales['spend']  # Original spend\n",
        "\n",
        "    # Lag the data by 1 and 2 weeks to represent delayed effects\n",
        "    media_sales['TV_lag1'] = media_sales['spend'].shift(1) * decay_rate  # Applying decay to lag 1\n",
        "    media_sales['TV_lag2'] = media_sales['spend'].shift(2) * (decay_rate ** 2)  # Applying decay to lag 2\n",
        "\n",
        "    # Calculate the adstock effect by summing the original spend with the decayed lags\n",
        "    media_sales['TV_adstock'] = media_sales['TV'] + media_sales['TV_lag1'] + media_sales['TV_lag2']\n",
        "\n",
        "    # Plotting the results\n",
        "    plt.figure(figsize=(10, 6))\n",
        "    plt.plot(media_sales['week'], media_sales['TV'], label='Original TV Spend', marker='o')\n",
        "    plt.plot(media_sales['week'], media_sales['TV_adstock'], label='Adstock with Decay', marker='x', linestyle='--')\n",
        "\n",
        "    plt.title(f'Adstock Effect with Decay Rate ({decay_rate})')\n",
        "    plt.xlabel('Week')\n",
        "    plt.ylabel('Spend')\n",
        "    plt.legend()\n",
        "    plt.tight_layout()\n",
        "    plt.show()\n",
        "\n",
        "plot_adstock_effect()\n"
      ]
    }
  ],
  "metadata": {
    "colab": {
      "name": "feature_engineering_buggy_azure_artifact",
      "provenance": []
    },
    "kernelspec": {
      "display_name": "mldebug",
      "language": "python",
      "name": "mldebug"
    },
    "language_info": {
      "codemirror_mode": {
        "name": "ipython",
        "version": 3
      },
      "file_extension": ".py",
      "mimetype": "text/x-python",
      "name": "python",
      "nbconvert_exporter": "python",
      "pygments_lexer": "ipython3",
      "version": "3.12.10"
    }
  },
  "nbformat": 4,
  "nbformat_minor": 5
}

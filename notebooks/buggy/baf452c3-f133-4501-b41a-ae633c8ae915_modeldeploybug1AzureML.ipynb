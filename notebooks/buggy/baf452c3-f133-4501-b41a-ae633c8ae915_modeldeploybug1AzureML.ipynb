{
  "cells": [
    {
      "cell_type": "code",
      "execution_count": 1,
      "metadata": {
        "gather": {
          "logged": 1746764977750
        }
      },
      "outputs": [],
      "source": [
        "import os\n",
        "import io\n",
        "\n",
        "from azure.storage.filedatalake import DataLakeServiceClient\n",
        "from azure.storage.blob import BlobServiceClient\n",
        "\n",
        "import numpy as np \n",
        "import pandas as pd\n",
        "\n",
        "from sklearn.metrics import mean_squared_error\n",
        "from sklearn.preprocessing import StandardScaler, OneHotEncoder\n",
        "from sklearn.linear_model import Lasso\n",
        "\n",
        "import mlflow\n",
        "import mlflow.sklearn\n",
        "from mlflow.models.signature import infer_signature"
      ]
    },
    {
      "cell_type": "code",
      "execution_count": 2,
      "metadata": {
        "gather": {
          "logged": 1746764977990
        }
      },
      "outputs": [
        {
          "name": "stdout",
          "output_type": "stream",
          "text": [
            "amzecomdata\n",
            "globalmartmarketingdata\n",
            "inventorydata\n",
            "optimalchannel\n"
          ]
        }
      ],
      "source": [
        "# Replace with your details\n",
        "storage_account_name = \" \"\n",
        "storage_account_key = \" \"\n",
        "\n",
        "# Connect to ADLS\n",
        "service_client = DataLakeServiceClient(\n",
        "    account_url=f\"https://{storage_account_name}.dfs.core.windows.net\",\n",
        "    credential=storage_account_key,\n",
        "    api_version=\"2023-11-03\"  # Use the correct supported API version\n",
        ")\n",
        "\n",
        "# List Containers\n",
        "containers = service_client.list_file_systems()\n",
        "for container in containers:\n",
        "    print(container.name)"
      ]
    },
    {
      "cell_type": "code",
      "execution_count": 3,
      "metadata": {
        "gather": {
          "logged": 1746764978302
        }
      },
      "outputs": [],
      "source": [
        "\n",
        "def read_csv_from_blob(storage_account_name, container_name, file_name, storage_account_key=None):\n",
        "    \"\"\"\n",
        "    Read a CSV file from Azure Blob Storage using Python and return a Pandas DataFrame.\n",
        "\n",
        "    :param storage_account_name: Azure storage account name.\n",
        "    :param container_name: Blob container name.\n",
        "    :param file_name: Name of the file in the container.\n",
        "    :param storage_account_key: Storage account access key.\n",
        "    :return: Pandas DataFrame.\n",
        "    \"\"\"\n",
        "    \n",
        "    if not storage_account_key:\n",
        "        # Try to get the key from environment variables if not provided\n",
        "        storage_account_key = os.environ.get('AZURE_STORAGE_KEY')\n",
        "        \n",
        "    if not storage_account_key:\n",
        "        raise ValueError(\"Storage account key must be provided either as a parameter or as an environment variable 'AZURE_STORAGE_KEY'\")\n",
        "    \n",
        "    try:\n",
        "        # Create a connection string\n",
        "        connection_string = f\"DefaultEndpointsProtocol=https;AccountName={storage_account_name};AccountKey={storage_account_key};EndpointSuffix=core.windows.net\"\n",
        "        \n",
        "        # Create the BlobServiceClient\n",
        "        blob_service_client = BlobServiceClient.from_connection_string(connection_string)\n",
        "        \n",
        "        # Get the container client\n",
        "        container_client = blob_service_client.get_container_client(container_name)\n",
        "        \n",
        "        # Get the blob client\n",
        "        blob_client = container_client.get_blob_client(file_name)\n",
        "        \n",
        "        # Download the blob content\n",
        "        download_stream = blob_client.download_blob()\n",
        "        \n",
        "        # Convert the content to a DataFrame\n",
        "        content = download_stream.readall()\n",
        "        df = pd.read_csv(io.BytesIO(content))\n",
        "        \n",
        "        return df\n",
        "    \n",
        "    except Exception as e:\n",
        "        print(f\"Error reading CSV file: {e}\")\n",
        "        return None"
      ]
    },
    {
      "cell_type": "code",
      "execution_count": 4,
      "metadata": {
        "gather": {
          "logged": 1746764978593
        }
      },
      "outputs": [
        {
          "data": {
            "text/html": [
              "<div>\n",
              "<style scoped>\n",
              "    .dataframe tbody tr th:only-of-type {\n",
              "        vertical-align: middle;\n",
              "    }\n",
              "\n",
              "    .dataframe tbody tr th {\n",
              "        vertical-align: top;\n",
              "    }\n",
              "\n",
              "    .dataframe thead th {\n",
              "        text-align: right;\n",
              "    }\n",
              "</style>\n",
              "<table border=\"1\" class=\"dataframe\">\n",
              "  <thead>\n",
              "    <tr style=\"text-align: right;\">\n",
              "      <th></th>\n",
              "      <th>Unnamed: 0</th>\n",
              "      <th>week</th>\n",
              "      <th>sales_amount</th>\n",
              "      <th>base_price</th>\n",
              "      <th>final_price</th>\n",
              "      <th>promotion_type</th>\n",
              "      <th>facebook_spend</th>\n",
              "      <th>google ads_spend</th>\n",
              "      <th>influencer marketing_spend</th>\n",
              "      <th>instagram_spend</th>\n",
              "      <th>ooh_spend</th>\n",
              "      <th>print_spend</th>\n",
              "      <th>radio_spend</th>\n",
              "      <th>tv_spend</th>\n",
              "      <th>youtube_spend</th>\n",
              "      <th>facebook_ctr</th>\n",
              "      <th>google ads_ctr</th>\n",
              "      <th>influencer marketing_ctr</th>\n",
              "      <th>instagram_ctr</th>\n",
              "      <th>youtube_ctr</th>\n",
              "    </tr>\n",
              "  </thead>\n",
              "  <tbody>\n",
              "    <tr>\n",
              "      <th>0</th>\n",
              "      <td>0</td>\n",
              "      <td>2023-01-01</td>\n",
              "      <td>13516527.77</td>\n",
              "      <td>101.830513</td>\n",
              "      <td>94.148539</td>\n",
              "      <td>Percentage Discount</td>\n",
              "      <td>1152.82</td>\n",
              "      <td>810.68</td>\n",
              "      <td>1122.12</td>\n",
              "      <td>707.48</td>\n",
              "      <td>11230.47</td>\n",
              "      <td>6214.43</td>\n",
              "      <td>6723.33</td>\n",
              "      <td>11311.42</td>\n",
              "      <td>703.13</td>\n",
              "      <td>3.047174</td>\n",
              "      <td>4.333516</td>\n",
              "      <td>2.471559</td>\n",
              "      <td>2.008197</td>\n",
              "      <td>2.116972</td>\n",
              "    </tr>\n",
              "    <tr>\n",
              "      <th>1</th>\n",
              "      <td>1</td>\n",
              "      <td>2023-01-08</td>\n",
              "      <td>95081753.02</td>\n",
              "      <td>101.830513</td>\n",
              "      <td>94.148539</td>\n",
              "      <td>Percentage Discount</td>\n",
              "      <td>7472.53</td>\n",
              "      <td>6973.85</td>\n",
              "      <td>7179.02</td>\n",
              "      <td>6834.33</td>\n",
              "      <td>11380.75</td>\n",
              "      <td>11069.60</td>\n",
              "      <td>9505.50</td>\n",
              "      <td>14004.01</td>\n",
              "      <td>6562.00</td>\n",
              "      <td>2.636847</td>\n",
              "      <td>2.732868</td>\n",
              "      <td>2.930657</td>\n",
              "      <td>3.354279</td>\n",
              "      <td>3.570124</td>\n",
              "    </tr>\n",
              "    <tr>\n",
              "      <th>2</th>\n",
              "      <td>2</td>\n",
              "      <td>2023-01-15</td>\n",
              "      <td>94804406.04</td>\n",
              "      <td>101.830513</td>\n",
              "      <td>94.148539</td>\n",
              "      <td>Percentage Discount</td>\n",
              "      <td>7204.29</td>\n",
              "      <td>7383.50</td>\n",
              "      <td>7185.08</td>\n",
              "      <td>6963.40</td>\n",
              "      <td>10270.30</td>\n",
              "      <td>8861.17</td>\n",
              "      <td>7836.04</td>\n",
              "      <td>14442.24</td>\n",
              "      <td>7318.19</td>\n",
              "      <td>2.679349</td>\n",
              "      <td>3.136116</td>\n",
              "      <td>2.879586</td>\n",
              "      <td>2.938546</td>\n",
              "      <td>3.776793</td>\n",
              "    </tr>\n",
              "    <tr>\n",
              "      <th>3</th>\n",
              "      <td>3</td>\n",
              "      <td>2023-01-22</td>\n",
              "      <td>94833974.28</td>\n",
              "      <td>101.830513</td>\n",
              "      <td>94.148539</td>\n",
              "      <td>Percentage Discount</td>\n",
              "      <td>7726.84</td>\n",
              "      <td>6522.20</td>\n",
              "      <td>7710.31</td>\n",
              "      <td>7479.41</td>\n",
              "      <td>8335.56</td>\n",
              "      <td>11601.91</td>\n",
              "      <td>6663.51</td>\n",
              "      <td>11917.89</td>\n",
              "      <td>7745.75</td>\n",
              "      <td>3.015955</td>\n",
              "      <td>3.836348</td>\n",
              "      <td>2.983655</td>\n",
              "      <td>2.858832</td>\n",
              "      <td>2.823088</td>\n",
              "    </tr>\n",
              "    <tr>\n",
              "      <th>4</th>\n",
              "      <td>4</td>\n",
              "      <td>2023-01-29</td>\n",
              "      <td>94806994.45</td>\n",
              "      <td>101.830513</td>\n",
              "      <td>94.148539</td>\n",
              "      <td>Percentage Discount</td>\n",
              "      <td>6987.22</td>\n",
              "      <td>6969.68</td>\n",
              "      <td>7094.25</td>\n",
              "      <td>7294.12</td>\n",
              "      <td>9575.21</td>\n",
              "      <td>7488.18</td>\n",
              "      <td>12158.00</td>\n",
              "      <td>6753.84</td>\n",
              "      <td>7044.42</td>\n",
              "      <td>2.744554</td>\n",
              "      <td>3.511152</td>\n",
              "      <td>2.338256</td>\n",
              "      <td>2.403631</td>\n",
              "      <td>3.019390</td>\n",
              "    </tr>\n",
              "  </tbody>\n",
              "</table>\n",
              "</div>"
            ],
            "text/plain": [
              "   Unnamed: 0        week  sales_amount  base_price  final_price  \\\n",
              "0           0  2023-01-01   13516527.77  101.830513    94.148539   \n",
              "1           1  2023-01-08   95081753.02  101.830513    94.148539   \n",
              "2           2  2023-01-15   94804406.04  101.830513    94.148539   \n",
              "3           3  2023-01-22   94833974.28  101.830513    94.148539   \n",
              "4           4  2023-01-29   94806994.45  101.830513    94.148539   \n",
              "\n",
              "        promotion_type  facebook_spend  google ads_spend  \\\n",
              "0  Percentage Discount         1152.82            810.68   \n",
              "1  Percentage Discount         7472.53           6973.85   \n",
              "2  Percentage Discount         7204.29           7383.50   \n",
              "3  Percentage Discount         7726.84           6522.20   \n",
              "4  Percentage Discount         6987.22           6969.68   \n",
              "\n",
              "   influencer marketing_spend  instagram_spend  ooh_spend  print_spend  \\\n",
              "0                     1122.12           707.48   11230.47      6214.43   \n",
              "1                     7179.02          6834.33   11380.75     11069.60   \n",
              "2                     7185.08          6963.40   10270.30      8861.17   \n",
              "3                     7710.31          7479.41    8335.56     11601.91   \n",
              "4                     7094.25          7294.12    9575.21      7488.18   \n",
              "\n",
              "   radio_spend  tv_spend  youtube_spend  facebook_ctr  google ads_ctr  \\\n",
              "0      6723.33  11311.42         703.13      3.047174        4.333516   \n",
              "1      9505.50  14004.01        6562.00      2.636847        2.732868   \n",
              "2      7836.04  14442.24        7318.19      2.679349        3.136116   \n",
              "3      6663.51  11917.89        7745.75      3.015955        3.836348   \n",
              "4     12158.00   6753.84        7044.42      2.744554        3.511152   \n",
              "\n",
              "   influencer marketing_ctr  instagram_ctr  youtube_ctr  \n",
              "0                  2.471559       2.008197     2.116972  \n",
              "1                  2.930657       3.354279     3.570124  \n",
              "2                  2.879586       2.938546     3.776793  \n",
              "3                  2.983655       2.858832     2.823088  \n",
              "4                  2.338256       2.403631     3.019390  "
            ]
          },
          "execution_count": 4,
          "metadata": {},
          "output_type": "execute_result"
        }
      ],
      "source": [
        "training_data = read_csv_from_blob(storage_account_name=storage_account_name,\n",
        "                                      container_name=\" \", \n",
        "                                      file_name=\"PreProcessing_final_data.csv\",\n",
        "                                      storage_account_key=storage_account_key)\n",
        "training_data.head()"
      ]
    },
    {
      "cell_type": "code",
      "execution_count": 5,
      "metadata": {
        "gather": {
          "logged": 1746764978855
        }
      },
      "outputs": [],
      "source": [
        "# Select features for scaling and encoding\n",
        "numerical_features = ['sales_amount', 'base_price', 'final_price',\n",
        "                      'facebook_spend', 'google ads_spend', 'influencer marketing_spend',\n",
        "                      'instagram_spend', 'ooh_spend', 'print_spend', 'radio_spend',\n",
        "                      'tv_spend', 'youtube_spend', 'facebook_ctr', 'google ads_ctr',\n",
        "                      'influencer marketing_ctr', 'instagram_ctr', 'youtube_ctr']\n",
        "\n",
        "categorical_features = ['promotion_type']"
      ]
    },
    {
      "cell_type": "code",
      "execution_count": 6,
      "metadata": {
        "gather": {
          "logged": 1746764979240
        }
      },
      "outputs": [
        {
          "data": {
            "text/html": [
              "<div>\n",
              "<style scoped>\n",
              "    .dataframe tbody tr th:only-of-type {\n",
              "        vertical-align: middle;\n",
              "    }\n",
              "\n",
              "    .dataframe tbody tr th {\n",
              "        vertical-align: top;\n",
              "    }\n",
              "\n",
              "    .dataframe thead th {\n",
              "        text-align: right;\n",
              "    }\n",
              "</style>\n",
              "<table border=\"1\" class=\"dataframe\">\n",
              "  <thead>\n",
              "    <tr style=\"text-align: right;\">\n",
              "      <th></th>\n",
              "      <th>sales_amount</th>\n",
              "      <th>base_price</th>\n",
              "      <th>final_price</th>\n",
              "      <th>facebook_spend</th>\n",
              "      <th>google ads_spend</th>\n",
              "      <th>influencer marketing_spend</th>\n",
              "      <th>instagram_spend</th>\n",
              "      <th>ooh_spend</th>\n",
              "      <th>print_spend</th>\n",
              "      <th>radio_spend</th>\n",
              "      <th>tv_spend</th>\n",
              "      <th>youtube_spend</th>\n",
              "      <th>facebook_ctr</th>\n",
              "      <th>google ads_ctr</th>\n",
              "      <th>influencer marketing_ctr</th>\n",
              "      <th>instagram_ctr</th>\n",
              "      <th>youtube_ctr</th>\n",
              "      <th>promotion_type_Buy One Get One Free</th>\n",
              "      <th>promotion_type_Percentage Discount</th>\n",
              "    </tr>\n",
              "  </thead>\n",
              "  <tbody>\n",
              "    <tr>\n",
              "      <th>0</th>\n",
              "      <td>-7.208240</td>\n",
              "      <td>-1.888843</td>\n",
              "      <td>-1.079989</td>\n",
              "      <td>-6.138594</td>\n",
              "      <td>-6.036483</td>\n",
              "      <td>-6.258867</td>\n",
              "      <td>-6.414760</td>\n",
              "      <td>0.452694</td>\n",
              "      <td>-1.329475</td>\n",
              "      <td>-0.967204</td>\n",
              "      <td>0.269455</td>\n",
              "      <td>-6.263100</td>\n",
              "      <td>0.408029</td>\n",
              "      <td>2.567653</td>\n",
              "      <td>-1.354243</td>\n",
              "      <td>-2.366897</td>\n",
              "      <td>-2.237695</td>\n",
              "      <td>0.0</td>\n",
              "      <td>1.0</td>\n",
              "    </tr>\n",
              "    <tr>\n",
              "      <th>1</th>\n",
              "      <td>0.156877</td>\n",
              "      <td>-1.888843</td>\n",
              "      <td>-1.079989</td>\n",
              "      <td>0.671809</td>\n",
              "      <td>0.104967</td>\n",
              "      <td>0.342237</td>\n",
              "      <td>-0.124517</td>\n",
              "      <td>0.511463</td>\n",
              "      <td>0.407651</td>\n",
              "      <td>0.102746</td>\n",
              "      <td>1.192669</td>\n",
              "      <td>-0.319184</td>\n",
              "      <td>-0.548539</td>\n",
              "      <td>-0.479803</td>\n",
              "      <td>-0.315938</td>\n",
              "      <td>0.701320</td>\n",
              "      <td>1.459348</td>\n",
              "      <td>0.0</td>\n",
              "      <td>1.0</td>\n",
              "    </tr>\n",
              "    <tr>\n",
              "      <th>2</th>\n",
              "      <td>0.131833</td>\n",
              "      <td>-1.888843</td>\n",
              "      <td>-1.079989</td>\n",
              "      <td>0.382741</td>\n",
              "      <td>0.513173</td>\n",
              "      <td>0.348841</td>\n",
              "      <td>0.007995</td>\n",
              "      <td>0.077207</td>\n",
              "      <td>-0.382501</td>\n",
              "      <td>-0.539284</td>\n",
              "      <td>1.342926</td>\n",
              "      <td>0.447983</td>\n",
              "      <td>-0.449456</td>\n",
              "      <td>0.287937</td>\n",
              "      <td>-0.431442</td>\n",
              "      <td>-0.246289</td>\n",
              "      <td>1.985146</td>\n",
              "      <td>0.0</td>\n",
              "      <td>1.0</td>\n",
              "    </tr>\n",
              "    <tr>\n",
              "      <th>3</th>\n",
              "      <td>0.134503</td>\n",
              "      <td>-1.888843</td>\n",
              "      <td>-1.079989</td>\n",
              "      <td>0.945865</td>\n",
              "      <td>-0.345091</td>\n",
              "      <td>0.921263</td>\n",
              "      <td>0.537766</td>\n",
              "      <td>-0.679400</td>\n",
              "      <td>0.598106</td>\n",
              "      <td>-0.990209</td>\n",
              "      <td>0.477397</td>\n",
              "      <td>0.881749</td>\n",
              "      <td>0.335249</td>\n",
              "      <td>1.621101</td>\n",
              "      <td>-0.196076</td>\n",
              "      <td>-0.427986</td>\n",
              "      <td>-0.441227</td>\n",
              "      <td>0.0</td>\n",
              "      <td>1.0</td>\n",
              "    </tr>\n",
              "    <tr>\n",
              "      <th>4</th>\n",
              "      <td>0.132067</td>\n",
              "      <td>-1.888843</td>\n",
              "      <td>-1.079989</td>\n",
              "      <td>0.148817</td>\n",
              "      <td>0.100812</td>\n",
              "      <td>0.249850</td>\n",
              "      <td>0.347535</td>\n",
              "      <td>-0.194618</td>\n",
              "      <td>-0.873741</td>\n",
              "      <td>1.122828</td>\n",
              "      <td>-1.293211</td>\n",
              "      <td>0.170239</td>\n",
              "      <td>-0.297450</td>\n",
              "      <td>1.001963</td>\n",
              "      <td>-1.655725</td>\n",
              "      <td>-1.465558</td>\n",
              "      <td>0.058197</td>\n",
              "      <td>0.0</td>\n",
              "      <td>1.0</td>\n",
              "    </tr>\n",
              "  </tbody>\n",
              "</table>\n",
              "</div>"
            ],
            "text/plain": [
              "   sales_amount  base_price  final_price  facebook_spend  google ads_spend  \\\n",
              "0     -7.208240   -1.888843    -1.079989       -6.138594         -6.036483   \n",
              "1      0.156877   -1.888843    -1.079989        0.671809          0.104967   \n",
              "2      0.131833   -1.888843    -1.079989        0.382741          0.513173   \n",
              "3      0.134503   -1.888843    -1.079989        0.945865         -0.345091   \n",
              "4      0.132067   -1.888843    -1.079989        0.148817          0.100812   \n",
              "\n",
              "   influencer marketing_spend  instagram_spend  ooh_spend  print_spend  \\\n",
              "0                   -6.258867        -6.414760   0.452694    -1.329475   \n",
              "1                    0.342237        -0.124517   0.511463     0.407651   \n",
              "2                    0.348841         0.007995   0.077207    -0.382501   \n",
              "3                    0.921263         0.537766  -0.679400     0.598106   \n",
              "4                    0.249850         0.347535  -0.194618    -0.873741   \n",
              "\n",
              "   radio_spend  tv_spend  youtube_spend  facebook_ctr  google ads_ctr  \\\n",
              "0    -0.967204  0.269455      -6.263100      0.408029        2.567653   \n",
              "1     0.102746  1.192669      -0.319184     -0.548539       -0.479803   \n",
              "2    -0.539284  1.342926       0.447983     -0.449456        0.287937   \n",
              "3    -0.990209  0.477397       0.881749      0.335249        1.621101   \n",
              "4     1.122828 -1.293211       0.170239     -0.297450        1.001963   \n",
              "\n",
              "   influencer marketing_ctr  instagram_ctr  youtube_ctr  \\\n",
              "0                 -1.354243      -2.366897    -2.237695   \n",
              "1                 -0.315938       0.701320     1.459348   \n",
              "2                 -0.431442      -0.246289     1.985146   \n",
              "3                 -0.196076      -0.427986    -0.441227   \n",
              "4                 -1.655725      -1.465558     0.058197   \n",
              "\n",
              "   promotion_type_Buy One Get One Free  promotion_type_Percentage Discount  \n",
              "0                                  0.0                                 1.0  \n",
              "1                                  0.0                                 1.0  \n",
              "2                                  0.0                                 1.0  \n",
              "3                                  0.0                                 1.0  \n",
              "4                                  0.0                                 1.0  "
            ]
          },
          "execution_count": 6,
          "metadata": {},
          "output_type": "execute_result"
        }
      ],
      "source": [
        "# Step 1: Scale numerical features\n",
        "scaler = StandardScaler()\n",
        "scaled_numerical_data = scaler.fit_transform(training_data[numerical_features])\n",
        "\n",
        "# Convert scaled numerical data to a DataFrame\n",
        "scaled_numerical_df = pd.DataFrame(scaled_numerical_data, columns=numerical_features)\n",
        "\n",
        "# Step 2: Encode categorical features\n",
        "encoder = OneHotEncoder(sparse_output=False)\n",
        "encoded_categorical_data = encoder.fit_transform(training_data[categorical_features])\n",
        "\n",
        "# Get column names for encoded categorical features\n",
        "encoded_categorical_columns = encoder.get_feature_names_out(categorical_features)\n",
        "\n",
        "# Convert encoded categorical data to a DataFrame\n",
        "encoded_categorical_df = pd.DataFrame(encoded_categorical_data, columns=encoded_categorical_columns)\n",
        "\n",
        "# Step 3: Combine scaled numerical data and encoded categorical data\n",
        "processed_df = pd.concat([scaled_numerical_df, encoded_categorical_df], axis=1)\n",
        "\n",
        "# Display the processed DataFrame\n",
        "processed_df.head()"
      ]
    },
    {
      "cell_type": "code",
      "execution_count": 7,
      "metadata": {
        "gather": {
          "logged": 1746764979441
        }
      },
      "outputs": [
        {
          "name": "stdout",
          "output_type": "stream",
          "text": [
            "sales_amount                   1\n",
            "base_price                    27\n",
            "final_price                   27\n",
            "facebook_spend                24\n",
            "google ads_spend              19\n",
            "influencer marketing_spend    22\n",
            "instagram_spend               19\n",
            "ooh_spend                     28\n",
            "print_spend                   28\n",
            "radio_spend                   31\n",
            "tv_spend                      24\n",
            "youtube_spend                 24\n",
            "facebook_ctr                  24\n",
            "google ads_ctr                27\n",
            "influencer marketing_ctr      31\n",
            "instagram_ctr                 29\n",
            "youtube_ctr                   27\n",
            "dtype: int64\n"
          ]
        }
      ],
      "source": [
        "# Check if there are any zero or negative values in the numerical columns\n",
        "print((processed_df[numerical_features] <= 0).sum())"
      ]
    },
    {
      "cell_type": "code",
      "execution_count": 8,
      "metadata": {
        "gather": {
          "logged": 1746764979598
        }
      },
      "outputs": [],
      "source": [
        "# Replace zero or negative values with a small positive value (e.g., 1e-6)\n",
        "processed_df[numerical_features] = processed_df[numerical_features].applymap(lambda x: max(x, 1e-6))\n",
        "\n",
        "# Apply log transformation to the target variable (sales_amount) and features (X)\n",
        "target_column = 'sales_amount'\n",
        "X = processed_df.drop(columns=[target_column])\n",
        "y = processed_df[target_column]\n",
        "\n",
        "# Apply log transformation (log-log regression)\n",
        "X_log = np.log1p(X)  # log(1 + x) to handle zero and negative values\n",
        "y_log = np.log1p(y)  # log(1 + y) to handle zero and negative values"
      ]
    },
    {
      "cell_type": "code",
      "execution_count": 9,
      "metadata": {
        "gather": {
          "logged": 1746765013592
        }
      },
      "outputs": [
        {
          "name": "stderr",
          "output_type": "stream",
          "text": [
            "/anaconda/envs/azureml_py310_sdkv2/lib/python3.10/site-packages/azureml/mlflow/_protos/aml_service_pb2.py:10: UserWarning: google.protobuf.service module is deprecated. RPC implementations should provide code generator plugins which generate code specific to the RPC implementation. service.py will be removed in Jan 2025\n",
            "  from google.protobuf import service as _service\n",
            "\u001b[31m2025/05/09 04:30:09 WARNING mlflow.models.model: Model logged without a signature and input example. Please set `input_example` parameter when logging the model to auto infer the model signature.\u001b[0m\n",
            "Registered model 'Lasso_v1' already exists. Creating a new version of this model...\n"
          ]
        },
        {
          "name": "stdout",
          "output_type": "stream",
          "text": [
            "Model logged with ID: 7888d892-67d3-43df-ad9d-28f953359645\n",
            "🏃 View run orange_bridge_7333y9z7 at: https://eastus.api.azureml.ms/mlflow/v2.0/subscriptions/f09d7e13-c940-4565-8bb0-353e6c00bebb/resourceGroups/bug-bounty-hackathon/providers/Microsoft.MachineLearningServices/workspaces/ml-bug-bounty-hackathon/#/experiments/85b13fd6-eeea-457f-89a2-1ffd6fdefa69/runs/7888d892-67d3-43df-ad9d-28f953359645\n",
            "🧪 View experiment at: https://eastus.api.azureml.ms/mlflow/v2.0/subscriptions/f09d7e13-c940-4565-8bb0-353e6c00bebb/resourceGroups/bug-bounty-hackathon/providers/Microsoft.MachineLearningServices/workspaces/ml-bug-bounty-hackathon/#/experiments/85b13fd6-eeea-457f-89a2-1ffd6fdefa69\n"
          ]
        }
      ],
      "source": [
        "mlflow.set_experiment(\"lasso-experiment\")  \n",
        "\n",
        "# Start MLflow run\n",
        "with mlflow.start_run() as run:\n",
        "    # Initialize Lasso model with a regularization parameter (alpha)\n",
        "    lasso_model = Lasso(alpha=0.1)  \n",
        "    \n",
        "    # Train the model on log-transformed features and target\n",
        "    lasso_model.fit(X_log, y_log)\n",
        "    \n",
        "    # Get the coefficients of the Lasso model\n",
        "    lasso_coefficients = pd.DataFrame({\n",
        "        'Feature': X_log.columns,\n",
        "        'Coefficient': lasso_model.coef_\n",
        "    }).sort_values(by='Coefficient', ascending=False)\n",
        "    \n",
        "    # Logging the model score \n",
        "    mlflow.log_metric(\"r_squared\", lasso_model.score(X_log, y_log))\n",
        "    \n",
        "    # Logging coefficients \n",
        "    for feature, coef in zip(lasso_coefficients['Feature'], lasso_coefficients['Coefficient']):\n",
        "        mlflow.log_metric(f\"coef_{feature}\", coef)  \n",
        "    \n",
        "    # Save the coefficients DataFrame as a CSV and log it as an artifact\n",
        "    coefficients_file_path = \"/tmp/lasso_coefficients.csv\"\n",
        "    lasso_coefficients.to_csv(coefficients_file_path, index=False)  # Saving DataFrame to CSV file\n",
        "    \n",
        "    # Log the CSV file as an artifact \n",
        "    mlflow.log_artifact(coefficients_file_path)  # Log the CSV file as an artifact\n",
        "    \n",
        "    # Logging the model \n",
        "    mlflow.log_param(\"model_type\", \"lasso\") \n",
        "    mlflow.sklearn.log_model(lasso_model, \"model\", registered_model_name=\"Lasso_v1\") \n",
        "    print(\"Model logged with ID:\", run.info.run_id)"
      ]
    },
    {
      "cell_type": "code",
      "execution_count": 10,
      "metadata": {
        "gather": {
          "logged": 1746765013866
        }
      },
      "outputs": [
        {
          "name": "stdout",
          "output_type": "stream",
          "text": [
            "MLflow Model URI:  azureml://eastus.api.azureml.ms/mlflow/v2.0/subscriptions/f09d7e13-c940-4565-8bb0-353e6c00bebb/resourceGroups/bug-bounty-hackathon/providers/Microsoft.MachineLearningServices/workspaces/ML-Bug-Bounty-Hackathon/experiments/85b13fd6-eeea-457f-89a2-1ffd6fdefa69/runs/d949148e-5a14-42df-a91c-a05858544b03/artifacts/log_reg_model\n"
          ]
        }
      ],
      "source": [
        "# Get the URI of the model logged in MLflow\n",
        "model_uri = mlflow.get_artifact_uri(\"log_reg_model\")\n",
        "print(\"MLflow Model URI: \", model_uri)"
      ]
    },
    {
      "cell_type": "code",
      "execution_count": 11,
      "metadata": {
        "gather": {
          "logged": 1746765014799
        }
      },
      "outputs": [],
      "source": [
        "from azureml.core import Workspace\n",
        "\n",
        "# Load your Azure ML workspace (use a config file or pass connection details directly)\n",
        "workspace = Workspace.from_config()  # This assumes you have a config file in the current directory"
      ]
    },
    {
      "cell_type": "code",
      "execution_count": 12,
      "metadata": {
        "gather": {
          "logged": 1746765014997
        }
      },
      "outputs": [],
      "source": [
        "from azureml.core import Environment\n",
        "\n",
        "# Define a custom environment for the model\n",
        "myenv = Environment(name=\"myenv\")\n",
        "\n",
        "# Add required dependencies (e.g., mlflow, scikit-learn)\n",
        "myenv.python.conda_dependencies.add_pip_package(\"mlflow\")\n",
        "myenv.python.conda_dependencies.add_pip_package(\"scikit-learn\")\n",
        "myenv.python.conda_dependencies.add_pip_package(\"azureml-sdk\")"
      ]
    },
    {
      "cell_type": "code",
      "execution_count": 13,
      "metadata": {
        "gather": {
          "logged": 1746765015174
        }
      },
      "outputs": [],
      "source": [
        "from azureml.core.model import InferenceConfig\n",
        "\n",
        "# Define the inference configuration\n",
        "inference_config = InferenceConfig(entry_script=\"score.py\", environment=myenv)"
      ]
    },
    {
      "cell_type": "code",
      "execution_count": 14,
      "metadata": {
        "gather": {
          "logged": 1746765016517
        }
      },
      "outputs": [
        {
          "name": "stderr",
          "output_type": "stream",
          "text": [
            "Error, provided model path \"azureml:/eastus.api.azureml.ms/mlflow/v2.0/subscriptions/f09d7e13-c940-4565-8bb0-353e6c00bebb/resourceGroups/bug-bounty-hackathon/providers/Microsoft.MachineLearningServices/workspaces/ML-Bug-Bounty-Hackathon/experiments/85b13fd6-eeea-457f-89a2-1ffd6fdefa69/runs/d949148e-5a14-42df-a91c-a05858544b03/artifacts/log_reg_model\" cannot be found\n",
            "\n"
          ]
        },
        {
          "ename": "WebserviceException",
          "evalue": "WebserviceException:\n\tMessage: Error, provided model path \"azureml:/eastus.api.azureml.ms/mlflow/v2.0/subscriptions/f09d7e13-c940-4565-8bb0-353e6c00bebb/resourceGroups/bug-bounty-hackathon/providers/Microsoft.MachineLearningServices/workspaces/ML-Bug-Bounty-Hackathon/experiments/85b13fd6-eeea-457f-89a2-1ffd6fdefa69/runs/d949148e-5a14-42df-a91c-a05858544b03/artifacts/log_reg_model\" cannot be found\n\tInnerException None\n\tErrorResponse \n{\n    \"error\": {\n        \"message\": \"Error, provided model path \\\"azureml:/eastus.api.azureml.ms/mlflow/v2.0/subscriptions/f09d7e13-c940-4565-8bb0-353e6c00bebb/resourceGroups/bug-bounty-hackathon/providers/Microsoft.MachineLearningServices/workspaces/ML-Bug-Bounty-Hackathon/experiments/85b13fd6-eeea-457f-89a2-1ffd6fdefa69/runs/d949148e-5a14-42df-a91c-a05858544b03/artifacts/log_reg_model\\\" cannot be found\"\n    }\n}",
          "output_type": "error",
          "traceback": [
            "\u001b[0;31m---------------------------------------------------------------------------\u001b[0m",
            "\u001b[0;31mWebserviceException\u001b[0m                       Traceback (most recent call last)",
            "Cell \u001b[0;32mIn[14], line 5\u001b[0m\n\u001b[1;32m      2\u001b[0m \u001b[38;5;28;01mfrom\u001b[39;00m\u001b[38;5;250m \u001b[39m\u001b[38;5;21;01mazureml\u001b[39;00m\u001b[38;5;21;01m.\u001b[39;00m\u001b[38;5;21;01mcore\u001b[39;00m\u001b[38;5;21;01m.\u001b[39;00m\u001b[38;5;21;01mwebservice\u001b[39;00m\u001b[38;5;250m \u001b[39m\u001b[38;5;28;01mimport\u001b[39;00m AciWebservice\n\u001b[1;32m      4\u001b[0m \u001b[38;5;66;03m# Register the model (if not already registered)\u001b[39;00m\n\u001b[0;32m----> 5\u001b[0m model \u001b[38;5;241m=\u001b[39m \u001b[43mModel\u001b[49m\u001b[38;5;241;43m.\u001b[39;49m\u001b[43mregister\u001b[49m\u001b[43m(\u001b[49m\u001b[43mworkspace\u001b[49m\u001b[38;5;241;43m=\u001b[39;49m\u001b[43mworkspace\u001b[49m\u001b[43m,\u001b[49m\n\u001b[1;32m      6\u001b[0m \u001b[43m                       \u001b[49m\u001b[43mmodel_path\u001b[49m\u001b[38;5;241;43m=\u001b[39;49m\u001b[43m \u001b[49m\u001b[43mmodel_uri\u001b[49m\u001b[43m,\u001b[49m\n\u001b[1;32m      7\u001b[0m \u001b[43m                       \u001b[49m\u001b[43mmodel_name\u001b[49m\u001b[38;5;241;43m=\u001b[39;49m\u001b[38;5;124;43m\"\u001b[39;49m\u001b[38;5;124;43mlog_reg_model\u001b[39;49m\u001b[38;5;124;43m\"\u001b[39;49m\u001b[43m,\u001b[49m\n\u001b[1;32m      8\u001b[0m \u001b[43m                       \u001b[49m\u001b[43mdescription\u001b[49m\u001b[38;5;241;43m=\u001b[39;49m\u001b[38;5;124;43m\"\u001b[39;49m\u001b[38;5;124;43mLog-log regression model for sales prediction\u001b[39;49m\u001b[38;5;124;43m\"\u001b[39;49m\u001b[43m)\u001b[49m\n\u001b[1;32m     10\u001b[0m \u001b[38;5;66;03m# Define deployment configuration (e.g., ACI for testing)\u001b[39;00m\n\u001b[1;32m     11\u001b[0m deployment_config \u001b[38;5;241m=\u001b[39m AciWebservice\u001b[38;5;241m.\u001b[39mdeploy_configuration(cpu_cores\u001b[38;5;241m=\u001b[39m\u001b[38;5;241m1\u001b[39m, memory_gb\u001b[38;5;241m=\u001b[39m\u001b[38;5;241m1\u001b[39m)\n",
            "File \u001b[0;32m/anaconda/envs/azureml_py310_sdkv2/lib/python3.10/site-packages/azureml/core/model.py:572\u001b[0m, in \u001b[0;36mModel.register\u001b[0;34m(workspace, model_path, model_name, tags, properties, description, datasets, model_framework, model_framework_version, child_paths, sample_input_dataset, sample_output_dataset, resource_configuration)\u001b[0m\n\u001b[1;32m    568\u001b[0m \u001b[38;5;28;01mif\u001b[39;00m model_framework \u001b[38;5;129;01mis\u001b[39;00m \u001b[38;5;28;01mNone\u001b[39;00m \u001b[38;5;129;01mand\u001b[39;00m model_framework_version \u001b[38;5;129;01mis\u001b[39;00m \u001b[38;5;129;01mnot\u001b[39;00m \u001b[38;5;28;01mNone\u001b[39;00m:\n\u001b[1;32m    569\u001b[0m     \u001b[38;5;28;01mraise\u001b[39;00m WebserviceException(\u001b[38;5;124m\"\u001b[39m\u001b[38;5;124mModel framework version cannot be provided without a valid framework\u001b[39m\u001b[38;5;124m\"\u001b[39m,\n\u001b[1;32m    570\u001b[0m                               logger\u001b[38;5;241m=\u001b[39mmodule_logger)\n\u001b[0;32m--> 572\u001b[0m \u001b[43mModel\u001b[49m\u001b[38;5;241;43m.\u001b[39;49m\u001b[43m_validate_model_path\u001b[49m\u001b[43m(\u001b[49m\u001b[43mmodel_path\u001b[49m\u001b[43m,\u001b[49m\u001b[43m \u001b[49m\u001b[43mchild_paths\u001b[49m\u001b[43m)\u001b[49m\n\u001b[1;32m    574\u001b[0m asset \u001b[38;5;241m=\u001b[39m Model\u001b[38;5;241m.\u001b[39m_create_asset(workspace\u001b[38;5;241m.\u001b[39mservice_context, model_path, model_name, child_paths)\n\u001b[1;32m    575\u001b[0m asset_id \u001b[38;5;241m=\u001b[39m asset\u001b[38;5;241m.\u001b[39mid\n",
            "File \u001b[0;32m/anaconda/envs/azureml_py310_sdkv2/lib/python3.10/site-packages/azureml/core/model.py:639\u001b[0m, in \u001b[0;36mModel._validate_model_path\u001b[0;34m(model_path, child_paths)\u001b[0m\n\u001b[1;32m    637\u001b[0m \u001b[38;5;66;03m# CodeQL [SM01305] untrusted data is validated before being used in the path\u001b[39;00m\n\u001b[1;32m    638\u001b[0m \u001b[38;5;28;01mif\u001b[39;00m \u001b[38;5;129;01mnot\u001b[39;00m os\u001b[38;5;241m.\u001b[39mpath\u001b[38;5;241m.\u001b[39mexists(model_path):\n\u001b[0;32m--> 639\u001b[0m     \u001b[38;5;28;01mraise\u001b[39;00m WebserviceException(\u001b[38;5;124m'\u001b[39m\u001b[38;5;124mError, provided model path \u001b[39m\u001b[38;5;124m\"\u001b[39m\u001b[38;5;132;01m{}\u001b[39;00m\u001b[38;5;124m\"\u001b[39m\u001b[38;5;124m cannot be found\u001b[39m\u001b[38;5;124m'\u001b[39m\u001b[38;5;241m.\u001b[39mformat(model_path),\n\u001b[1;32m    640\u001b[0m                               logger\u001b[38;5;241m=\u001b[39mmodule_logger)\n\u001b[1;32m    642\u001b[0m \u001b[38;5;28;01mif\u001b[39;00m child_paths:\n\u001b[1;32m    643\u001b[0m     \u001b[38;5;28;01mfor\u001b[39;00m path \u001b[38;5;129;01min\u001b[39;00m child_paths:\n",
            "\u001b[0;31mWebserviceException\u001b[0m: WebserviceException:\n\tMessage: Error, provided model path \"azureml:/eastus.api.azureml.ms/mlflow/v2.0/subscriptions/f09d7e13-c940-4565-8bb0-353e6c00bebb/resourceGroups/bug-bounty-hackathon/providers/Microsoft.MachineLearningServices/workspaces/ML-Bug-Bounty-Hackathon/experiments/85b13fd6-eeea-457f-89a2-1ffd6fdefa69/runs/d949148e-5a14-42df-a91c-a05858544b03/artifacts/log_reg_model\" cannot be found\n\tInnerException None\n\tErrorResponse \n{\n    \"error\": {\n        \"message\": \"Error, provided model path \\\"azureml:/eastus.api.azureml.ms/mlflow/v2.0/subscriptions/f09d7e13-c940-4565-8bb0-353e6c00bebb/resourceGroups/bug-bounty-hackathon/providers/Microsoft.MachineLearningServices/workspaces/ML-Bug-Bounty-Hackathon/experiments/85b13fd6-eeea-457f-89a2-1ffd6fdefa69/runs/d949148e-5a14-42df-a91c-a05858544b03/artifacts/log_reg_model\\\" cannot be found\"\n    }\n}"
          ]
        }
      ],
      "source": [
        "from azureml.core import Model\n",
        "from azureml.core.webservice import AciWebservice\n",
        "\n",
        "# Register the model (if not already registered)\n",
        "model = Model.register(workspace=workspace,\n",
        "                       model_path= model_uri,\n",
        "                       model_name=\"log_reg_model\",\n",
        "                       description=\"Log-log regression model for sales prediction\")\n",
        "\n",
        "# Define deployment configuration (e.g., ACI for testing)\n",
        "deployment_config = AciWebservice.deploy_configuration(cpu_cores=1, memory_gb=1)\n",
        "\n",
        "# Deploy the model to ACI\n",
        "service = Model.deploy(workspace=workspace,\n",
        "                       name=\"sales-prediction-service\",\n",
        "                       models=[model],\n",
        "                       inference_config=inference_config,\n",
        "                       deployment_config=deployment_config)\n",
        "\n",
        "# Wait for deployment to complete\n",
        "service.wait_for_deployment(True)\n",
        "print(service.state)\n"
      ]
    }
  ],
  "metadata": {
    "kernel_info": {
      "name": "python310-sdkv2"
    },
    "kernelspec": {
      "display_name": "Python 3.10 - SDK v2",
      "language": "python",
      "name": "python310-sdkv2"
    },
    "language_info": {
      "codemirror_mode": {
        "name": "ipython",
        "version": 3
      },
      "file_extension": ".py",
      "mimetype": "text/x-python",
      "name": "python",
      "nbconvert_exporter": "python",
      "pygments_lexer": "ipython3",
      "version": "3.10.16"
    },
    "microsoft": {
      "host": {
        "AzureML": {
          "notebookHasBeenCompleted": true
        }
      },
      "ms_spell_check": {
        "ms_spell_check_language": "en"
      }
    },
    "nteract": {
      "version": "nteract-front-end@1.0.0"
    }
  },
  "nbformat": 4,
  "nbformat_minor": 2
}
